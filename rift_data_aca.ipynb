{
 "cells": [
  {
   "cell_type": "markdown",
   "metadata": {},
   "source": [
    "# Rift Data Academy"
   ]
  },
  {
   "cell_type": "markdown",
   "metadata": {},
   "source": [
    "Premier *mid laner* server KR : 胡小青超酷#douyu  \n",
    "Enregistré le 15/10/2024, rang général 2ième.   \n",
    "puuid : yke-_ZuAP9wM6s3tpe-FnVWLlnwI4qLuLRzz933HfpI_jzKcDa1YwXbWGpFC7WJek_rv4x_kXk2Y-A  \n",
    "Joueur pro : Qing  "
   ]
  },
  {
   "cell_type": "code",
   "execution_count": 13,
   "metadata": {},
   "outputs": [],
   "source": [
    "import requests\n",
    "import pandas as pd\n",
    "import json\n",
    "import numpy as np\n",
    "import matplotlib.pyplot as plt\n",
    "import seaborn as sns\n",
    "from dotenv import dotenv_values\n",
    "import sqlite3\n",
    "import sqlite_utils\n",
    "import time\n"
   ]
  },
  {
   "cell_type": "code",
   "execution_count": 2,
   "metadata": {},
   "outputs": [],
   "source": [
    "mid_kr_puuid = \"yke-_ZuAP9wM6s3tpe-FnVWLlnwI4qLuLRzz933HfpI_jzKcDa1YwXbWGpFC7WJek_rv4x_kXk2Y-A\""
   ]
  },
  {
   "cell_type": "code",
   "execution_count": 16,
   "metadata": {},
   "outputs": [],
   "source": [
    "config = dotenv_values(\".env\")\n",
    "api_key = config['API_KEY']"
   ]
  },
  {
   "cell_type": "markdown",
   "metadata": {},
   "source": [
    "## Récupération des IDS des matchs"
   ]
  },
  {
   "cell_type": "code",
   "execution_count": 28,
   "metadata": {},
   "outputs": [],
   "source": [
    "conn = sqlite3.connect('koren_soloq_db.db')\n",
    "cursor = conn.cursor()\n",
    "conn.execute('''\n",
    "    CREATE TABLE IF NOT EXISTS MATCHID (\n",
    "        id TEXT PRIMARY KEY UNIQUE \n",
    "    )\n",
    "''')\n",
    "\n",
    "for i in range (0,600,100) : \n",
    "    testListIDMatch = requests.get(f\"https://asia.api.riotgames.com/lol/match/v5/matches/by-puuid/yke-_ZuAP9wM6s3tpe-FnVWLlnwI4qLuLRzz933HfpI_jzKcDa1YwXbWGpFC7WJek_rv4x_kXk2Y-A/ids?queue=420&start={i}&count=100&api_key={api_key}\").json()\n",
    "    testListIDMatch = [(id,) for id in testListIDMatch]\n",
    "    conn.executemany('''INSERT OR IGNORE INTO MATCHID (id) VALUES (?);''',testListIDMatch)\n",
    "    conn.commit()\n",
    "\n",
    "\n",
    "\n",
    "\n",
    "conn.close()\n",
    "    "
   ]
  },
  {
   "cell_type": "markdown",
   "metadata": {},
   "source": [
    "## Récupérations des data des matchs"
   ]
  },
  {
   "cell_type": "markdown",
   "metadata": {},
   "source": [
    "Il faut que je requete une fois les matchs sur tous les ID des matchs pour les insérer dans la BDD"
   ]
  },
  {
   "cell_type": "code",
   "execution_count": 40,
   "metadata": {},
   "outputs": [],
   "source": [
    "conn = sqlite3.connect('koren_soloq_db.db')\n",
    "cursor = conn.cursor()\n",
    "#columns = ', '.join([f'{key} JSON' for key in data.keys()])\n",
    "cursor.execute('''CREATE TABLE IF NOT EXISTS MATCH_DATA\n",
    "                (metadata JSON PRIMARY KEY UNIQUE, info JSON, timelineinfo JSON);''')\n",
    "conn.close()"
   ]
  },
  {
   "cell_type": "markdown",
   "metadata": {},
   "source": [
    "### Recupère les ID dans la table"
   ]
  },
  {
   "cell_type": "code",
   "execution_count": 38,
   "metadata": {},
   "outputs": [],
   "source": [
    "conn = sqlite3.connect('koren_soloq_db.db')\n",
    "cursor = conn.cursor()\n",
    "\n",
    "matchsId = cursor.execute('''SELECT id FROM MATCHID''').fetchall()\n",
    "conn.close()"
   ]
  },
  {
   "cell_type": "markdown",
   "metadata": {},
   "source": [
    "### Lance les requêtes (avec sleep) sur les ID"
   ]
  },
  {
   "cell_type": "code",
   "execution_count": 42,
   "metadata": {},
   "outputs": [],
   "source": [
    "conn = sqlite3.connect('koren_soloq_db.db')\n",
    "cursor = conn.cursor()\n",
    "\n",
    "for match in matchsId :\n",
    "    matchData = requests.get(f\"https://asia.api.riotgames.com/lol/match/v5/matches/{match[0]}?api_key={api_key}\").json()\n",
    "    matchTimeline = requests.get(f'https://asia.api.riotgames.com/lol/match/v5/matches/{match[0]}/timeline?api_key={api_key}').json()\n",
    "    metadata = json.dumps(matchData['metadata'])\n",
    "    info = json.dumps(matchData['info'])\n",
    "    timeline = json.dumps(matchTimeline['info'])\n",
    "    conn.execute('''INSERT OR IGNORE INTO MATCH_DATA (metadata,info,timelineinfo) VALUES (?,?,?)''',[metadata,info,timeline])\n",
    "    conn.commit()\n",
    "    time.sleep(2.6)\n",
    "\n",
    "conn.close()\n"
   ]
  },
  {
   "cell_type": "code",
   "execution_count": null,
   "metadata": {},
   "outputs": [],
   "source": []
  }
 ],
 "metadata": {
  "kernelspec": {
   "display_name": "Python 3",
   "language": "python",
   "name": "python3"
  },
  "language_info": {
   "codemirror_mode": {
    "name": "ipython",
    "version": 3
   },
   "file_extension": ".py",
   "mimetype": "text/x-python",
   "name": "python",
   "nbconvert_exporter": "python",
   "pygments_lexer": "ipython3",
   "version": "3.12.4"
  }
 },
 "nbformat": 4,
 "nbformat_minor": 2
}
