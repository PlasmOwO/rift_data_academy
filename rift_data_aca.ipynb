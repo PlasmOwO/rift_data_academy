{
 "cells": [
  {
   "cell_type": "markdown",
   "metadata": {},
   "source": [
    "# Rift Data Academy"
   ]
  },
  {
   "cell_type": "markdown",
   "metadata": {},
   "source": [
    "Premier *mid laner* server KR : 胡小青超酷#douyu  \n",
    "Enregistré le 15/10/2024, rang général 2ième.   \n",
    "puuid : yke-_ZuAP9wM6s3tpe-FnVWLlnwI4qLuLRzz933HfpI_jzKcDa1YwXbWGpFC7WJek_rv4x_kXk2Y-A  \n",
    "Joueur pro : Qing  "
   ]
  },
  {
   "cell_type": "code",
   "execution_count": 1,
   "metadata": {},
   "outputs": [],
   "source": [
    "import requests\n",
    "import pandas as pd\n",
    "import json\n",
    "import numpy as np\n",
    "import matplotlib.pyplot as plt\n",
    "import seaborn as sns\n",
    "from dotenv import dotenv_values\n",
    "import sqlite3\n"
   ]
  },
  {
   "cell_type": "code",
   "execution_count": 2,
   "metadata": {},
   "outputs": [],
   "source": [
    "mid_kr_puuid = \"yke-_ZuAP9wM6s3tpe-FnVWLlnwI4qLuLRzz933HfpI_jzKcDa1YwXbWGpFC7WJek_rv4x_kXk2Y-A\""
   ]
  },
  {
   "cell_type": "code",
   "execution_count": 3,
   "metadata": {},
   "outputs": [],
   "source": [
    "config = dotenv_values(\".env\")\n",
    "api_key = config['API_KEY']"
   ]
  },
  {
   "cell_type": "code",
   "execution_count": 4,
   "metadata": {},
   "outputs": [
    {
     "data": {
      "text/plain": [
       "['KR_7329210097',\n",
       " 'KR_7329178248',\n",
       " 'KR_7329125077',\n",
       " 'KR_7329046760',\n",
       " 'KR_7329004245',\n",
       " 'KR_7328931883',\n",
       " 'KR_7328873415',\n",
       " 'KR_7328828963',\n",
       " 'KR_7328802260',\n",
       " 'KR_7328760490',\n",
       " 'KR_7328710571',\n",
       " 'KR_7328682718',\n",
       " 'KR_7328642296',\n",
       " 'KR_7328580852',\n",
       " 'KR_7328542031',\n",
       " 'KR_7328490197',\n",
       " 'KR_7328179457',\n",
       " 'KR_7328156965',\n",
       " 'KR_7328149824',\n",
       " 'KR_7328127527',\n",
       " 'KR_7328106754',\n",
       " 'KR_7328077295',\n",
       " 'KR_7328049584',\n",
       " 'KR_7328002222',\n",
       " 'KR_7327450345',\n",
       " 'KR_7327420424',\n",
       " 'KR_7327396894',\n",
       " 'KR_7327368474',\n",
       " 'KR_7327333878',\n",
       " 'KR_7327314771',\n",
       " 'KR_7327291661',\n",
       " 'KR_7327198954',\n",
       " 'KR_7327029255',\n",
       " 'KR_7327001968',\n",
       " 'KR_7326982806',\n",
       " 'KR_7326959717',\n",
       " 'KR_7326921739',\n",
       " 'KR_7326886546',\n",
       " 'KR_7326828067',\n",
       " 'KR_7326759206',\n",
       " 'KR_7326715474',\n",
       " 'KR_7326626776',\n",
       " 'KR_7326575540',\n",
       " 'KR_7326538030',\n",
       " 'KR_7326483526',\n",
       " 'KR_7326438909',\n",
       " 'KR_7326390541',\n",
       " 'KR_7326368039',\n",
       " 'KR_7326321624',\n",
       " 'KR_7325930087',\n",
       " 'KR_7325909890',\n",
       " 'KR_7325905779',\n",
       " 'KR_7325902435',\n",
       " 'KR_7325898209',\n",
       " 'KR_7325895228',\n",
       " 'KR_7325886131',\n",
       " 'KR_7325878260',\n",
       " 'KR_7325858883',\n",
       " 'KR_7325843688',\n",
       " 'KR_7325828313',\n",
       " 'KR_7325812316',\n",
       " 'KR_7325788077',\n",
       " 'KR_7325753134',\n",
       " 'KR_7325095705',\n",
       " 'KR_7325013945',\n",
       " 'KR_7324971418',\n",
       " 'KR_7324905410',\n",
       " 'KR_7324833357',\n",
       " 'KR_7324733907',\n",
       " 'KR_7324677488',\n",
       " 'KR_7324628392',\n",
       " 'KR_7324585602',\n",
       " 'KR_7324339222',\n",
       " 'KR_7324314180',\n",
       " 'KR_7324285275',\n",
       " 'KR_7324247424',\n",
       " 'KR_7324200780',\n",
       " 'KR_7324130037',\n",
       " 'KR_7324040684',\n",
       " 'KR_7323518106',\n",
       " 'KR_7323461195',\n",
       " 'KR_7323414929',\n",
       " 'KR_7323372048',\n",
       " 'KR_7323299692',\n",
       " 'KR_7323246513',\n",
       " 'KR_7323151488',\n",
       " 'KR_7323093370',\n",
       " 'KR_7322661780',\n",
       " 'KR_7322659259',\n",
       " 'KR_7322646419',\n",
       " 'KR_7322617849',\n",
       " 'KR_7322589445',\n",
       " 'KR_7322543801',\n",
       " 'KR_7322510552',\n",
       " 'KR_7322453159',\n",
       " 'KR_7321901593',\n",
       " 'KR_7321838805',\n",
       " 'KR_7321801592',\n",
       " 'KR_7321753539',\n",
       " 'KR_7321704748']"
      ]
     },
     "execution_count": 4,
     "metadata": {},
     "output_type": "execute_result"
    }
   ],
   "source": [
    "requests.get(f\"https://asia.api.riotgames.com/lol/match/v5/matches/by-puuid/yke-_ZuAP9wM6s3tpe-FnVWLlnwI4qLuLRzz933HfpI_jzKcDa1YwXbWGpFC7WJek_rv4x_kXk2Y-A/ids?queue=420&start=0&count=100&api_key={api_key}\").json()"
   ]
  },
  {
   "cell_type": "code",
   "execution_count": 6,
   "metadata": {},
   "outputs": [],
   "source": [
    "conn = sqlite3.connect('koren_soloq_db.db')\n",
    "cursor = conn.cursor()\n",
    "conn.execute('''\n",
    "    CREATE TABLE IF NOT EXISTS MATCHID (\n",
    "        id TEXT PRIMARY KEY UNIQUE \n",
    "    )\n",
    "''')\n",
    "conn.close()"
   ]
  },
  {
   "cell_type": "code",
   "execution_count": 11,
   "metadata": {},
   "outputs": [],
   "source": [
    "#stocker tous les id dans la table matchid"
   ]
  }
 ],
 "metadata": {
  "kernelspec": {
   "display_name": "Python 3",
   "language": "python",
   "name": "python3"
  },
  "language_info": {
   "codemirror_mode": {
    "name": "ipython",
    "version": 3
   },
   "file_extension": ".py",
   "mimetype": "text/x-python",
   "name": "python",
   "nbconvert_exporter": "python",
   "pygments_lexer": "ipython3",
   "version": "3.12.4"
  }
 },
 "nbformat": 4,
 "nbformat_minor": 2
}
