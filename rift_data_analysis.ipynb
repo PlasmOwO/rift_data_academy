{
 "cells": [
  {
   "cell_type": "code",
   "execution_count": 3,
   "metadata": {},
   "outputs": [],
   "source": [
    "import requests\n",
    "import pandas as pd\n",
    "import json\n",
    "import numpy as np\n",
    "import matplotlib.pyplot as plt\n",
    "import seaborn as sns\n",
    "from dotenv import dotenv_values\n",
    "import sqlite3\n",
    "import sqlite_utils\n",
    "import time\n",
    "import statistics\n"
   ]
  },
  {
   "cell_type": "code",
   "execution_count": 4,
   "metadata": {},
   "outputs": [],
   "source": [
    "mid_kr_puuid = \"yke-_ZuAP9wM6s3tpe-FnVWLlnwI4qLuLRzz933HfpI_jzKcDa1YwXbWGpFC7WJek_rv4x_kXk2Y-A\""
   ]
  },
  {
   "cell_type": "code",
   "execution_count": 5,
   "metadata": {},
   "outputs": [],
   "source": [
    "conn = sqlite3.connect('koren_soloq_db.db')\n",
    "cursor = conn.cursor()\n",
    "match_end_data = cursor.execute('''SELECT metadata, info FROM MATCH_DATA''').fetchall()\n",
    "match_timeline_data = cursor.execute('''SELECT metadata, timelineinfo FROM MATCH_DATA''').fetchall()\n",
    "\n",
    "conn.close()"
   ]
  },
  {
   "cell_type": "code",
   "execution_count": 6,
   "metadata": {},
   "outputs": [],
   "source": [
    "#Filter only mid role games\n",
    "list_match_end_data_whereMid = []\n",
    "mid_matchs = []\n",
    "for idx_match, match in enumerate(match_end_data) :\n",
    "    match_info = json.loads(match[1])\n",
    "    for idx, participant in enumerate(match_info['participants']):\n",
    "        if (participant['puuid'] == mid_kr_puuid) and (participant['teamPosition'] == \"MIDDLE\"):\n",
    "            list_match_end_data_whereMid.append(match)\n",
    "            mid_matchs.append(idx_match)\n",
    "\n",
    "list_match_timeline_data_whereMid = [match_timeline_data[i] for i in mid_matchs]"
   ]
  },
  {
   "cell_type": "code",
   "execution_count": 7,
   "metadata": {},
   "outputs": [
    {
     "name": "stdout",
     "output_type": "stream",
     "text": [
      "600\n",
      "505\n",
      "505\n"
     ]
    }
   ],
   "source": [
    "print(len(match_end_data))\n",
    "print(len(list_match_end_data_whereMid))\n",
    "print(len(list_match_timeline_data_whereMid))"
   ]
  },
  {
   "cell_type": "code",
   "execution_count": 8,
   "metadata": {},
   "outputs": [],
   "source": [
    "#Info after game\n",
    "kda_list = []\n",
    "cs_min = []\n",
    "for match in list_match_end_data_whereMid :\n",
    "\n",
    "\n",
    "    match_metadata = json.loads(match[0])\n",
    "    for idx, player_puuid in enumerate(match_metadata['participants']):\n",
    "        if player_puuid == mid_kr_puuid:\n",
    "            index_qing = idx\n",
    "\n",
    "    match_info = json.loads(match[1])\n",
    "\n",
    "    #KDA\n",
    "    kills = match_info['participants'][index_qing]['kills']\n",
    "    assists = match_info['participants'][index_qing]['assists']\n",
    "    deaths = match_info['participants'][index_qing]['deaths']\n",
    "    if deaths == 0 : deaths = 1\n",
    "    kda_list.append((kills+assists)/deaths)\n",
    "\n",
    "    #CS/MIN\n",
    "    monster_cs = match_info['participants'][index_qing]['neutralMinionsKilled']\n",
    "    minion_cs = match_info['participants'][index_qing]['totalMinionsKilled']\n",
    "    cs_min.append((monster_cs + minion_cs) /  (match_info['gameDuration'] //60))\n",
    "\n",
    "\n"
   ]
  },
  {
   "cell_type": "code",
   "execution_count": 9,
   "metadata": {},
   "outputs": [
    {
     "data": {
      "text/plain": [
       "'kKSPluUio3QQcAttyUdjul-d2m3rPrCRxxf4llXyzcwkwdtpnZ6PGHFY_NH7IQfgbgf-XPko4bZE8A'"
      ]
     },
     "execution_count": 9,
     "metadata": {},
     "output_type": "execute_result"
    }
   ],
   "source": [
    "json.loads(list_match_end_data_whereMid[0][1])['participants'][0]['puuid']"
   ]
  },
  {
   "cell_type": "code",
   "execution_count": 15,
   "metadata": {},
   "outputs": [
    {
     "data": {
      "text/plain": [
       "{'x': 554, 'y': 581}"
      ]
     },
     "execution_count": 15,
     "metadata": {},
     "output_type": "execute_result"
    }
   ],
   "source": [
    "json.loads(list_match_timeline_data_whereMid[0][1])['frames'][0]['participantFrames']['1']['position']"
   ]
  },
  {
   "cell_type": "code",
   "execution_count": 11,
   "metadata": {},
   "outputs": [
    {
     "data": {
      "text/plain": [
       "100"
      ]
     },
     "execution_count": 11,
     "metadata": {},
     "output_type": "execute_result"
    }
   ],
   "source": [
    "json.loads(list_match_end_data_whereMid[0][1])['participants'][0]['teamId']"
   ]
  },
  {
   "cell_type": "code",
   "execution_count": 16,
   "metadata": {},
   "outputs": [],
   "source": [
    "#Info timeline\n",
    "gold_diff_15_list = []\n",
    "for matchIndex, match in enumerate(list_match_timeline_data_whereMid):\n",
    "\n",
    "\n",
    "    match_metadata = json.loads(match[0])\n",
    "    for idx, player_puuid in enumerate(match_metadata['participants']):\n",
    "        if player_puuid == mid_kr_puuid:\n",
    "            index_qing = idx\n",
    "\n",
    "    \n",
    "    for idx, participant in enumerate(json.loads(list_match_end_data_whereMid[matchIndex][1])['participants']):\n",
    "        if (participant['teamPosition'] == \"MIDDLE\") and (participant['puuid']) != mid_kr_puuid:\n",
    "            index_ennemy = idx\n",
    "            side_ennemy = participant['teamId']\n",
    "            if side_ennemy == 100 : \n",
    "                side_qing = 200 \n",
    "            else : \n",
    "                side_qing = 100\n",
    "           \n",
    "\n",
    "    match_info = json.loads(match[1])\n",
    "    \n",
    "    if len(match_info['frames']) > 16 :\n",
    "        qing_gold_15 = match_info['frames'][15]['participantFrames'][str(index_qing+1)]['totalGold']\n",
    "        ennemy_gold_15 = match_info['frames'][15]['participantFrames'][str(index_ennemy+1)]['totalGold']\n",
    "        gold_diff_15_list.append(qing_gold_15 - ennemy_gold_15)\n",
    "\n",
    "    for frame in match_info['frames'] :\n",
    "        if side_qing == 100 :\n",
    "            x_limit = 0\n",
    "            y_limit = 0\n",
    "        else :\n",
    "            x_limit = 0\n",
    "            y_limit = 0\n",
    "        if (frame['participantFrames'][str(index_qing+1)]['position']['x'] > 3500 and frame['participantFrames'][str(index_qing+1)]['position']['y'] > 3500) :\n",
    "            pass\n",
    "\n",
    "# gold diff\n",
    "# forward %"
   ]
  },
  {
   "cell_type": "code",
   "execution_count": 81,
   "metadata": {},
   "outputs": [
    {
     "name": "stdout",
     "output_type": "stream",
     "text": [
      "4.438730873087309\n",
      "7.886367344876574\n",
      "236.53493013972056\n"
     ]
    }
   ],
   "source": [
    "#attention il a des games autofills\n",
    "print(statistics.mean(kda_list))\n",
    "print(statistics.mean(cs_min))\n",
    "print(statistics.mean(gold_diff_15_list))"
   ]
  },
  {
   "cell_type": "code",
   "execution_count": null,
   "metadata": {},
   "outputs": [],
   "source": []
  }
 ],
 "metadata": {
  "kernelspec": {
   "display_name": "lol_venv",
   "language": "python",
   "name": "python3"
  },
  "language_info": {
   "codemirror_mode": {
    "name": "ipython",
    "version": 3
   },
   "file_extension": ".py",
   "mimetype": "text/x-python",
   "name": "python",
   "nbconvert_exporter": "python",
   "pygments_lexer": "ipython3",
   "version": "3.11.1"
  }
 },
 "nbformat": 4,
 "nbformat_minor": 2
}
