{
 "cells": [
  {
   "cell_type": "code",
   "execution_count": 3,
   "metadata": {},
   "outputs": [],
   "source": [
    "import requests\n",
    "import pandas as pd\n",
    "import json\n",
    "import numpy as np\n",
    "import matplotlib.pyplot as plt\n",
    "import seaborn as sns\n",
    "from dotenv import dotenv_values\n",
    "import sqlite3\n",
    "import sqlite_utils\n",
    "import time\n",
    "import statistics\n",
    "import dash\n",
    "import plotly.express as px\n"
   ]
  },
  {
   "cell_type": "code",
   "execution_count": 4,
   "metadata": {},
   "outputs": [],
   "source": [
    "mid_kr_puuid = \"yke-_ZuAP9wM6s3tpe-FnVWLlnwI4qLuLRzz933HfpI_jzKcDa1YwXbWGpFC7WJek_rv4x_kXk2Y-A\"\n",
    "faker_puuid = \"HD9jtPc4kBf9qCfY6YjeqjnirqDqnwyugRPRg52DqZ8bmVVLbK7Gst0fA5vpYcPHUS95nxbmdNe5YA\""
   ]
  },
  {
   "cell_type": "code",
   "execution_count": 5,
   "metadata": {},
   "outputs": [],
   "source": [
    "conn = sqlite3.connect('koren_soloq_db.db')\n",
    "cursor = conn.cursor()\n",
    "match_end_data = cursor.execute('''SELECT metadata, info FROM MATCH_DATA''').fetchall()\n",
    "match_timeline_data = cursor.execute('''SELECT metadata, timelineinfo FROM MATCH_DATA''').fetchall()\n",
    "\n",
    "faker_match_end_data = cursor.execute('''SELECT metadata, info FROM MATCH_DATA_FAKER''').fetchall()\n",
    "faker_match_timeline_data = cursor.execute('''SELECT metadata, timelineinfo FROM MATCH_DATA_FAKER''').fetchall()\n",
    "\n",
    "conn.close()"
   ]
  },
  {
   "cell_type": "markdown",
   "metadata": {},
   "source": [
    "qing init"
   ]
  },
  {
   "cell_type": "code",
   "execution_count": 6,
   "metadata": {},
   "outputs": [],
   "source": [
    "#Filter only mid role games\n",
    "list_match_end_data_whereMid = []\n",
    "mid_matchs = []\n",
    "for idx_match, match in enumerate(match_end_data) :\n",
    "    match_info = json.loads(match[1])\n",
    "    for idx, participant in enumerate(match_info['participants']):\n",
    "        if (participant['puuid'] == mid_kr_puuid) and (participant['teamPosition'] == \"MIDDLE\"):\n",
    "            list_match_end_data_whereMid.append(match)\n",
    "            mid_matchs.append(idx_match)\n",
    "\n",
    "list_match_timeline_data_whereMid = [match_timeline_data[i] for i in mid_matchs]"
   ]
  },
  {
   "cell_type": "markdown",
   "metadata": {},
   "source": [
    "faker init"
   ]
  },
  {
   "cell_type": "code",
   "execution_count": 7,
   "metadata": {},
   "outputs": [],
   "source": [
    "#Filter only mid role games\n",
    "faker_list_match_end_data_whereMid = []\n",
    "faker_mid_matchs = []\n",
    "for idx_match, match in enumerate(faker_match_end_data) :\n",
    "    faker_match_info = json.loads(match[1])\n",
    "    for idx, participant in enumerate(faker_match_info['participants']):\n",
    "        if (participant['puuid'] == faker_puuid) and (participant['teamPosition'] == \"MIDDLE\"):\n",
    "            faker_list_match_end_data_whereMid.append(match)\n",
    "            faker_mid_matchs.append(idx_match)\n",
    "\n",
    "faker_list_match_timeline_data_whereMid = [faker_match_timeline_data[i] for i in faker_mid_matchs]"
   ]
  },
  {
   "cell_type": "code",
   "execution_count": 8,
   "metadata": {},
   "outputs": [
    {
     "name": "stdout",
     "output_type": "stream",
     "text": [
      "600\n",
      "505\n",
      "505\n"
     ]
    }
   ],
   "source": [
    "print(len(match_end_data))\n",
    "print(len(list_match_end_data_whereMid))\n",
    "print(len(list_match_timeline_data_whereMid))"
   ]
  },
  {
   "cell_type": "code",
   "execution_count": 9,
   "metadata": {},
   "outputs": [
    {
     "name": "stdout",
     "output_type": "stream",
     "text": [
      "457\n",
      "399\n",
      "399\n"
     ]
    }
   ],
   "source": [
    "print(len(faker_match_end_data))\n",
    "print(len(faker_list_match_end_data_whereMid))\n",
    "print(len(faker_list_match_timeline_data_whereMid))"
   ]
  },
  {
   "cell_type": "code",
   "execution_count": 10,
   "metadata": {},
   "outputs": [],
   "source": [
    "def is_forward(x, y , side) :\n",
    "    a = -1\n",
    "    b = 16000 - a* 0\n",
    "\n",
    "    y_diag = a * x+b\n",
    "\n",
    "    if side == 100: #blue side\n",
    "        if y > y_diag :\n",
    "            return True\n",
    "        else :\n",
    "            return False\n",
    "    if side == 200 : #Red side, on inverse alors\n",
    "        if y > y_diag :\n",
    "            return False\n",
    "        else :\n",
    "            return True"
   ]
  },
  {
   "cell_type": "code",
   "execution_count": 19,
   "metadata": {},
   "outputs": [
    {
     "data": {
      "text/html": [
       "<div>\n",
       "<style scoped>\n",
       "    .dataframe tbody tr th:only-of-type {\n",
       "        vertical-align: middle;\n",
       "    }\n",
       "\n",
       "    .dataframe tbody tr th {\n",
       "        vertical-align: top;\n",
       "    }\n",
       "\n",
       "    .dataframe thead th {\n",
       "        text-align: right;\n",
       "    }\n",
       "</style>\n",
       "<table border=\"1\" class=\"dataframe\">\n",
       "  <thead>\n",
       "    <tr style=\"text-align: right;\">\n",
       "      <th></th>\n",
       "      <th>champion</th>\n",
       "      <th>kills</th>\n",
       "      <th>assists</th>\n",
       "      <th>deaths</th>\n",
       "      <th>kda</th>\n",
       "      <th>cs/min</th>\n",
       "      <th>game_duration</th>\n",
       "      <th>win</th>\n",
       "    </tr>\n",
       "  </thead>\n",
       "  <tbody>\n",
       "    <tr>\n",
       "      <th>KR_7329575443</th>\n",
       "      <td>Orianna</td>\n",
       "      <td>3</td>\n",
       "      <td>12</td>\n",
       "      <td>5</td>\n",
       "      <td>3.000000</td>\n",
       "      <td>7.807692</td>\n",
       "      <td>1564</td>\n",
       "      <td>False</td>\n",
       "    </tr>\n",
       "    <tr>\n",
       "      <th>KR_7329546409</th>\n",
       "      <td>Hwei</td>\n",
       "      <td>2</td>\n",
       "      <td>16</td>\n",
       "      <td>4</td>\n",
       "      <td>4.500000</td>\n",
       "      <td>8.280000</td>\n",
       "      <td>1509</td>\n",
       "      <td>True</td>\n",
       "    </tr>\n",
       "    <tr>\n",
       "      <th>KR_7329493150</th>\n",
       "      <td>Tristana</td>\n",
       "      <td>9</td>\n",
       "      <td>6</td>\n",
       "      <td>9</td>\n",
       "      <td>1.666667</td>\n",
       "      <td>6.714286</td>\n",
       "      <td>1686</td>\n",
       "      <td>False</td>\n",
       "    </tr>\n",
       "    <tr>\n",
       "      <th>KR_7329479027</th>\n",
       "      <td>Sylas</td>\n",
       "      <td>3</td>\n",
       "      <td>5</td>\n",
       "      <td>1</td>\n",
       "      <td>8.000000</td>\n",
       "      <td>7.733333</td>\n",
       "      <td>913</td>\n",
       "      <td>True</td>\n",
       "    </tr>\n",
       "    <tr>\n",
       "      <th>KR_7329444912</th>\n",
       "      <td>Xerath</td>\n",
       "      <td>9</td>\n",
       "      <td>11</td>\n",
       "      <td>4</td>\n",
       "      <td>5.000000</td>\n",
       "      <td>7.766667</td>\n",
       "      <td>1846</td>\n",
       "      <td>True</td>\n",
       "    </tr>\n",
       "    <tr>\n",
       "      <th>...</th>\n",
       "      <td>...</td>\n",
       "      <td>...</td>\n",
       "      <td>...</td>\n",
       "      <td>...</td>\n",
       "      <td>...</td>\n",
       "      <td>...</td>\n",
       "      <td>...</td>\n",
       "      <td>...</td>\n",
       "    </tr>\n",
       "    <tr>\n",
       "      <th>KR_7223353740</th>\n",
       "      <td>Smolder</td>\n",
       "      <td>10</td>\n",
       "      <td>11</td>\n",
       "      <td>5</td>\n",
       "      <td>4.200000</td>\n",
       "      <td>7.793103</td>\n",
       "      <td>1758</td>\n",
       "      <td>True</td>\n",
       "    </tr>\n",
       "    <tr>\n",
       "      <th>KR_7219217995</th>\n",
       "      <td>Smolder</td>\n",
       "      <td>6</td>\n",
       "      <td>10</td>\n",
       "      <td>7</td>\n",
       "      <td>2.285714</td>\n",
       "      <td>7.939394</td>\n",
       "      <td>2010</td>\n",
       "      <td>True</td>\n",
       "    </tr>\n",
       "    <tr>\n",
       "      <th>KR_7219171692</th>\n",
       "      <td>Smolder</td>\n",
       "      <td>3</td>\n",
       "      <td>4</td>\n",
       "      <td>1</td>\n",
       "      <td>7.000000</td>\n",
       "      <td>9.933333</td>\n",
       "      <td>915</td>\n",
       "      <td>True</td>\n",
       "    </tr>\n",
       "    <tr>\n",
       "      <th>KR_7219121163</th>\n",
       "      <td>Smolder</td>\n",
       "      <td>4</td>\n",
       "      <td>5</td>\n",
       "      <td>1</td>\n",
       "      <td>9.000000</td>\n",
       "      <td>10.157895</td>\n",
       "      <td>1177</td>\n",
       "      <td>True</td>\n",
       "    </tr>\n",
       "    <tr>\n",
       "      <th>KR_7219039482</th>\n",
       "      <td>Sivir</td>\n",
       "      <td>0</td>\n",
       "      <td>10</td>\n",
       "      <td>11</td>\n",
       "      <td>0.909091</td>\n",
       "      <td>7.266667</td>\n",
       "      <td>1809</td>\n",
       "      <td>True</td>\n",
       "    </tr>\n",
       "  </tbody>\n",
       "</table>\n",
       "<p>505 rows × 8 columns</p>\n",
       "</div>"
      ],
      "text/plain": [
       "               champion  kills  assists  deaths       kda     cs/min  \\\n",
       "KR_7329575443   Orianna      3       12       5  3.000000   7.807692   \n",
       "KR_7329546409      Hwei      2       16       4  4.500000   8.280000   \n",
       "KR_7329493150  Tristana      9        6       9  1.666667   6.714286   \n",
       "KR_7329479027     Sylas      3        5       1  8.000000   7.733333   \n",
       "KR_7329444912    Xerath      9       11       4  5.000000   7.766667   \n",
       "...                 ...    ...      ...     ...       ...        ...   \n",
       "KR_7223353740   Smolder     10       11       5  4.200000   7.793103   \n",
       "KR_7219217995   Smolder      6       10       7  2.285714   7.939394   \n",
       "KR_7219171692   Smolder      3        4       1  7.000000   9.933333   \n",
       "KR_7219121163   Smolder      4        5       1  9.000000  10.157895   \n",
       "KR_7219039482     Sivir      0       10      11  0.909091   7.266667   \n",
       "\n",
       "               game_duration    win  \n",
       "KR_7329575443           1564  False  \n",
       "KR_7329546409           1509   True  \n",
       "KR_7329493150           1686  False  \n",
       "KR_7329479027            913   True  \n",
       "KR_7329444912           1846   True  \n",
       "...                      ...    ...  \n",
       "KR_7223353740           1758   True  \n",
       "KR_7219217995           2010   True  \n",
       "KR_7219171692            915   True  \n",
       "KR_7219121163           1177   True  \n",
       "KR_7219039482           1809   True  \n",
       "\n",
       "[505 rows x 8 columns]"
      ]
     },
     "execution_count": 19,
     "metadata": {},
     "output_type": "execute_result"
    }
   ],
   "source": [
    "def qing_to_df():\n",
    "    df = pd.DataFrame()\n",
    "\n",
    "    for match in list_match_end_data_whereMid :\n",
    "        match_metadata = json.loads(match[0])\n",
    "        match_id = match_metadata['matchId']\n",
    "        for idx, player_puuid in enumerate(match_metadata['participants']):\n",
    "            if player_puuid == mid_kr_puuid:\n",
    "                index_qing = idx\n",
    "\n",
    "        match_info = json.loads(match[1])\n",
    "\n",
    "        game_duration = match_info['gameDuration']\n",
    "        \n",
    "        #KDA\n",
    "       \n",
    "        kills = match_info['participants'][index_qing]['kills']\n",
    "        assists = match_info['participants'][index_qing]['assists']\n",
    "        deaths = match_info['participants'][index_qing]['deaths']\n",
    "        if deaths == 0 : deaths = 1\n",
    "\n",
    "        #CS/MIN\n",
    "        monster_cs = match_info['participants'][index_qing]['neutralMinionsKilled']\n",
    "        minion_cs = match_info['participants'][index_qing]['totalMinionsKilled']\n",
    "\n",
    "\n",
    "        #Champions les plus joués\n",
    "        champion = match_info['participants'][index_qing]['championName']\n",
    "\n",
    "        #Win \n",
    "        win = match_info['participants'][index_qing]['win']\n",
    "\n",
    "\n",
    "\n",
    "        currentGame = pd.DataFrame([[champion,kills,assists,deaths,(kills+assists)/deaths,(monster_cs + minion_cs) /  (game_duration//60),game_duration, win]], columns=['champion','kills','assists','deaths','kda','cs/min','game_duration','win'],index=[match_id])\n",
    "        df = pd.concat([df,currentGame])\n",
    "    return df\n",
    "qing_to_df()"
   ]
  },
  {
   "cell_type": "code",
   "execution_count": 20,
   "metadata": {},
   "outputs": [
    {
     "data": {
      "text/html": [
       "<div>\n",
       "<style scoped>\n",
       "    .dataframe tbody tr th:only-of-type {\n",
       "        vertical-align: middle;\n",
       "    }\n",
       "\n",
       "    .dataframe tbody tr th {\n",
       "        vertical-align: top;\n",
       "    }\n",
       "\n",
       "    .dataframe thead th {\n",
       "        text-align: right;\n",
       "    }\n",
       "</style>\n",
       "<table border=\"1\" class=\"dataframe\">\n",
       "  <thead>\n",
       "    <tr style=\"text-align: right;\">\n",
       "      <th></th>\n",
       "      <th>champion</th>\n",
       "      <th>kills</th>\n",
       "      <th>assists</th>\n",
       "      <th>deaths</th>\n",
       "      <th>kda</th>\n",
       "      <th>cs/min</th>\n",
       "      <th>game_duration</th>\n",
       "      <th>win</th>\n",
       "    </tr>\n",
       "  </thead>\n",
       "  <tbody>\n",
       "    <tr>\n",
       "      <th>KR_7277245614</th>\n",
       "      <td>Ziggs</td>\n",
       "      <td>3</td>\n",
       "      <td>8</td>\n",
       "      <td>2</td>\n",
       "      <td>5.500000</td>\n",
       "      <td>8.478261</td>\n",
       "      <td>1414</td>\n",
       "      <td>True</td>\n",
       "    </tr>\n",
       "    <tr>\n",
       "      <th>KR_7277191080</th>\n",
       "      <td>Yone</td>\n",
       "      <td>2</td>\n",
       "      <td>4</td>\n",
       "      <td>7</td>\n",
       "      <td>0.857143</td>\n",
       "      <td>8.629630</td>\n",
       "      <td>1670</td>\n",
       "      <td>False</td>\n",
       "    </tr>\n",
       "    <tr>\n",
       "      <th>KR_7277107558</th>\n",
       "      <td>Tristana</td>\n",
       "      <td>7</td>\n",
       "      <td>5</td>\n",
       "      <td>4</td>\n",
       "      <td>3.000000</td>\n",
       "      <td>9.533333</td>\n",
       "      <td>1845</td>\n",
       "      <td>True</td>\n",
       "    </tr>\n",
       "    <tr>\n",
       "      <th>KR_7277064011</th>\n",
       "      <td>Smolder</td>\n",
       "      <td>3</td>\n",
       "      <td>1</td>\n",
       "      <td>1</td>\n",
       "      <td>4.000000</td>\n",
       "      <td>10.200000</td>\n",
       "      <td>914</td>\n",
       "      <td>True</td>\n",
       "    </tr>\n",
       "    <tr>\n",
       "      <th>KR_7276973233</th>\n",
       "      <td>Smolder</td>\n",
       "      <td>4</td>\n",
       "      <td>4</td>\n",
       "      <td>6</td>\n",
       "      <td>1.333333</td>\n",
       "      <td>9.730769</td>\n",
       "      <td>1612</td>\n",
       "      <td>False</td>\n",
       "    </tr>\n",
       "    <tr>\n",
       "      <th>...</th>\n",
       "      <td>...</td>\n",
       "      <td>...</td>\n",
       "      <td>...</td>\n",
       "      <td>...</td>\n",
       "      <td>...</td>\n",
       "      <td>...</td>\n",
       "      <td>...</td>\n",
       "      <td>...</td>\n",
       "    </tr>\n",
       "    <tr>\n",
       "      <th>KR_6926873782</th>\n",
       "      <td>TwistedFate</td>\n",
       "      <td>4</td>\n",
       "      <td>4</td>\n",
       "      <td>4</td>\n",
       "      <td>2.000000</td>\n",
       "      <td>7.809524</td>\n",
       "      <td>1295</td>\n",
       "      <td>True</td>\n",
       "    </tr>\n",
       "    <tr>\n",
       "      <th>KR_6926509000</th>\n",
       "      <td>Ekko</td>\n",
       "      <td>1</td>\n",
       "      <td>6</td>\n",
       "      <td>4</td>\n",
       "      <td>1.750000</td>\n",
       "      <td>7.666667</td>\n",
       "      <td>1291</td>\n",
       "      <td>True</td>\n",
       "    </tr>\n",
       "    <tr>\n",
       "      <th>KR_6926493212</th>\n",
       "      <td>Ekko</td>\n",
       "      <td>6</td>\n",
       "      <td>6</td>\n",
       "      <td>1</td>\n",
       "      <td>12.000000</td>\n",
       "      <td>10.500000</td>\n",
       "      <td>1123</td>\n",
       "      <td>True</td>\n",
       "    </tr>\n",
       "    <tr>\n",
       "      <th>KR_6926456239</th>\n",
       "      <td>TwistedFate</td>\n",
       "      <td>10</td>\n",
       "      <td>1</td>\n",
       "      <td>5</td>\n",
       "      <td>2.200000</td>\n",
       "      <td>7.444444</td>\n",
       "      <td>1635</td>\n",
       "      <td>False</td>\n",
       "    </tr>\n",
       "    <tr>\n",
       "      <th>KR_6926401755</th>\n",
       "      <td>Leblanc</td>\n",
       "      <td>7</td>\n",
       "      <td>4</td>\n",
       "      <td>1</td>\n",
       "      <td>11.000000</td>\n",
       "      <td>9.222222</td>\n",
       "      <td>1116</td>\n",
       "      <td>True</td>\n",
       "    </tr>\n",
       "  </tbody>\n",
       "</table>\n",
       "<p>399 rows × 8 columns</p>\n",
       "</div>"
      ],
      "text/plain": [
       "                  champion  kills  assists  deaths        kda     cs/min  \\\n",
       "KR_7277245614        Ziggs      3        8       2   5.500000   8.478261   \n",
       "KR_7277191080         Yone      2        4       7   0.857143   8.629630   \n",
       "KR_7277107558     Tristana      7        5       4   3.000000   9.533333   \n",
       "KR_7277064011      Smolder      3        1       1   4.000000  10.200000   \n",
       "KR_7276973233      Smolder      4        4       6   1.333333   9.730769   \n",
       "...                    ...    ...      ...     ...        ...        ...   \n",
       "KR_6926873782  TwistedFate      4        4       4   2.000000   7.809524   \n",
       "KR_6926509000         Ekko      1        6       4   1.750000   7.666667   \n",
       "KR_6926493212         Ekko      6        6       1  12.000000  10.500000   \n",
       "KR_6926456239  TwistedFate     10        1       5   2.200000   7.444444   \n",
       "KR_6926401755      Leblanc      7        4       1  11.000000   9.222222   \n",
       "\n",
       "               game_duration    win  \n",
       "KR_7277245614           1414   True  \n",
       "KR_7277191080           1670  False  \n",
       "KR_7277107558           1845   True  \n",
       "KR_7277064011            914   True  \n",
       "KR_7276973233           1612  False  \n",
       "...                      ...    ...  \n",
       "KR_6926873782           1295   True  \n",
       "KR_6926509000           1291   True  \n",
       "KR_6926493212           1123   True  \n",
       "KR_6926456239           1635  False  \n",
       "KR_6926401755           1116   True  \n",
       "\n",
       "[399 rows x 8 columns]"
      ]
     },
     "execution_count": 20,
     "metadata": {},
     "output_type": "execute_result"
    }
   ],
   "source": [
    "def faker_to_df():\n",
    "\n",
    "    df = pd.DataFrame()\n",
    "\n",
    "    for match in faker_list_match_end_data_whereMid :\n",
    "        match_metadata = json.loads(match[0])\n",
    "        match_id = match_metadata['matchId']\n",
    "        for idx, player_puuid in enumerate(match_metadata['participants']):\n",
    "            if player_puuid == faker_puuid:\n",
    "                index_faker = idx\n",
    "\n",
    "        match_info = json.loads(match[1])\n",
    "\n",
    "        game_duration = match_info['gameDuration']\n",
    "        game_id = match_info['gameId']\n",
    "        #KDA\n",
    "       \n",
    "        kills = match_info['participants'][index_faker]['kills']\n",
    "        assists = match_info['participants'][index_faker]['assists']\n",
    "        deaths = match_info['participants'][index_faker]['deaths']\n",
    "        if deaths == 0 : deaths = 1\n",
    "\n",
    "        #CS/MIN\n",
    "        monster_cs = match_info['participants'][index_faker]['neutralMinionsKilled']\n",
    "        minion_cs = match_info['participants'][index_faker]['totalMinionsKilled']\n",
    "\n",
    "\n",
    "        #Champions les plus joués\n",
    "        champion = match_info['participants'][index_faker]['championName']\n",
    "\n",
    "        #Win \n",
    "        win = match_info['participants'][index_faker]['win']\n",
    "\n",
    "\n",
    "\n",
    "        currentGame = pd.DataFrame([[champion,kills,assists,deaths,(kills+assists)/deaths,(monster_cs + minion_cs) /  (game_duration//60),game_duration, win]], columns=['champion','kills','assists','deaths','kda','cs/min','game_duration','win'],index=[match_id])\n",
    "        df = pd.concat([df,currentGame])\n",
    "    return df\n",
    "faker_to_df()"
   ]
  },
  {
   "cell_type": "code",
   "execution_count": 21,
   "metadata": {},
   "outputs": [
    {
     "data": {
      "text/html": [
       "<div>\n",
       "<style scoped>\n",
       "    .dataframe tbody tr th:only-of-type {\n",
       "        vertical-align: middle;\n",
       "    }\n",
       "\n",
       "    .dataframe tbody tr th {\n",
       "        vertical-align: top;\n",
       "    }\n",
       "\n",
       "    .dataframe thead th {\n",
       "        text-align: right;\n",
       "    }\n",
       "</style>\n",
       "<table border=\"1\" class=\"dataframe\">\n",
       "  <thead>\n",
       "    <tr style=\"text-align: right;\">\n",
       "      <th></th>\n",
       "      <th>champion</th>\n",
       "      <th>kills</th>\n",
       "      <th>assists</th>\n",
       "      <th>deaths</th>\n",
       "      <th>kda</th>\n",
       "      <th>cs/min</th>\n",
       "      <th>game_duration</th>\n",
       "      <th>win</th>\n",
       "      <th>ally_side</th>\n",
       "      <th>forward_%</th>\n",
       "      <th>gold_diff@15</th>\n",
       "    </tr>\n",
       "  </thead>\n",
       "  <tbody>\n",
       "    <tr>\n",
       "      <th>KR_7329575443</th>\n",
       "      <td>Orianna</td>\n",
       "      <td>3</td>\n",
       "      <td>12</td>\n",
       "      <td>5</td>\n",
       "      <td>3.000000</td>\n",
       "      <td>7.807692</td>\n",
       "      <td>1564</td>\n",
       "      <td>False</td>\n",
       "      <td>100</td>\n",
       "      <td>0.000000</td>\n",
       "      <td>284.0</td>\n",
       "    </tr>\n",
       "    <tr>\n",
       "      <th>KR_7329546409</th>\n",
       "      <td>Hwei</td>\n",
       "      <td>2</td>\n",
       "      <td>16</td>\n",
       "      <td>4</td>\n",
       "      <td>4.500000</td>\n",
       "      <td>8.280000</td>\n",
       "      <td>1509</td>\n",
       "      <td>True</td>\n",
       "      <td>200</td>\n",
       "      <td>0.592593</td>\n",
       "      <td>-1193.0</td>\n",
       "    </tr>\n",
       "    <tr>\n",
       "      <th>KR_7329493150</th>\n",
       "      <td>Tristana</td>\n",
       "      <td>9</td>\n",
       "      <td>6</td>\n",
       "      <td>9</td>\n",
       "      <td>1.666667</td>\n",
       "      <td>6.714286</td>\n",
       "      <td>1686</td>\n",
       "      <td>False</td>\n",
       "      <td>200</td>\n",
       "      <td>0.400000</td>\n",
       "      <td>1695.0</td>\n",
       "    </tr>\n",
       "    <tr>\n",
       "      <th>KR_7329479027</th>\n",
       "      <td>Sylas</td>\n",
       "      <td>3</td>\n",
       "      <td>5</td>\n",
       "      <td>1</td>\n",
       "      <td>8.000000</td>\n",
       "      <td>7.733333</td>\n",
       "      <td>913</td>\n",
       "      <td>True</td>\n",
       "      <td>100</td>\n",
       "      <td>0.235294</td>\n",
       "      <td>904.0</td>\n",
       "    </tr>\n",
       "    <tr>\n",
       "      <th>KR_7329444912</th>\n",
       "      <td>Xerath</td>\n",
       "      <td>9</td>\n",
       "      <td>11</td>\n",
       "      <td>4</td>\n",
       "      <td>5.000000</td>\n",
       "      <td>7.766667</td>\n",
       "      <td>1846</td>\n",
       "      <td>True</td>\n",
       "      <td>100</td>\n",
       "      <td>0.125000</td>\n",
       "      <td>1367.0</td>\n",
       "    </tr>\n",
       "    <tr>\n",
       "      <th>...</th>\n",
       "      <td>...</td>\n",
       "      <td>...</td>\n",
       "      <td>...</td>\n",
       "      <td>...</td>\n",
       "      <td>...</td>\n",
       "      <td>...</td>\n",
       "      <td>...</td>\n",
       "      <td>...</td>\n",
       "      <td>...</td>\n",
       "      <td>...</td>\n",
       "      <td>...</td>\n",
       "    </tr>\n",
       "    <tr>\n",
       "      <th>KR_7223353740</th>\n",
       "      <td>Smolder</td>\n",
       "      <td>10</td>\n",
       "      <td>11</td>\n",
       "      <td>5</td>\n",
       "      <td>4.200000</td>\n",
       "      <td>7.793103</td>\n",
       "      <td>1758</td>\n",
       "      <td>True</td>\n",
       "      <td>200</td>\n",
       "      <td>0.709677</td>\n",
       "      <td>-397.0</td>\n",
       "    </tr>\n",
       "    <tr>\n",
       "      <th>KR_7219217995</th>\n",
       "      <td>Smolder</td>\n",
       "      <td>6</td>\n",
       "      <td>10</td>\n",
       "      <td>7</td>\n",
       "      <td>2.285714</td>\n",
       "      <td>7.939394</td>\n",
       "      <td>2010</td>\n",
       "      <td>True</td>\n",
       "      <td>100</td>\n",
       "      <td>0.257143</td>\n",
       "      <td>-595.0</td>\n",
       "    </tr>\n",
       "    <tr>\n",
       "      <th>KR_7219171692</th>\n",
       "      <td>Smolder</td>\n",
       "      <td>3</td>\n",
       "      <td>4</td>\n",
       "      <td>1</td>\n",
       "      <td>7.000000</td>\n",
       "      <td>9.933333</td>\n",
       "      <td>915</td>\n",
       "      <td>True</td>\n",
       "      <td>100</td>\n",
       "      <td>0.294118</td>\n",
       "      <td>-399.0</td>\n",
       "    </tr>\n",
       "    <tr>\n",
       "      <th>KR_7219121163</th>\n",
       "      <td>Smolder</td>\n",
       "      <td>4</td>\n",
       "      <td>5</td>\n",
       "      <td>1</td>\n",
       "      <td>9.000000</td>\n",
       "      <td>10.157895</td>\n",
       "      <td>1177</td>\n",
       "      <td>True</td>\n",
       "      <td>100</td>\n",
       "      <td>0.333333</td>\n",
       "      <td>-291.0</td>\n",
       "    </tr>\n",
       "    <tr>\n",
       "      <th>KR_7219039482</th>\n",
       "      <td>Sivir</td>\n",
       "      <td>0</td>\n",
       "      <td>10</td>\n",
       "      <td>11</td>\n",
       "      <td>0.909091</td>\n",
       "      <td>7.266667</td>\n",
       "      <td>1809</td>\n",
       "      <td>True</td>\n",
       "      <td>100</td>\n",
       "      <td>0.312500</td>\n",
       "      <td>-1411.0</td>\n",
       "    </tr>\n",
       "  </tbody>\n",
       "</table>\n",
       "<p>505 rows × 11 columns</p>\n",
       "</div>"
      ],
      "text/plain": [
       "               champion  kills  assists  deaths       kda     cs/min  \\\n",
       "KR_7329575443   Orianna      3       12       5  3.000000   7.807692   \n",
       "KR_7329546409      Hwei      2       16       4  4.500000   8.280000   \n",
       "KR_7329493150  Tristana      9        6       9  1.666667   6.714286   \n",
       "KR_7329479027     Sylas      3        5       1  8.000000   7.733333   \n",
       "KR_7329444912    Xerath      9       11       4  5.000000   7.766667   \n",
       "...                 ...    ...      ...     ...       ...        ...   \n",
       "KR_7223353740   Smolder     10       11       5  4.200000   7.793103   \n",
       "KR_7219217995   Smolder      6       10       7  2.285714   7.939394   \n",
       "KR_7219171692   Smolder      3        4       1  7.000000   9.933333   \n",
       "KR_7219121163   Smolder      4        5       1  9.000000  10.157895   \n",
       "KR_7219039482     Sivir      0       10      11  0.909091   7.266667   \n",
       "\n",
       "               game_duration    win  ally_side  forward_%  gold_diff@15  \n",
       "KR_7329575443           1564  False        100   0.000000         284.0  \n",
       "KR_7329546409           1509   True        200   0.592593       -1193.0  \n",
       "KR_7329493150           1686  False        200   0.400000        1695.0  \n",
       "KR_7329479027            913   True        100   0.235294         904.0  \n",
       "KR_7329444912           1846   True        100   0.125000        1367.0  \n",
       "...                      ...    ...        ...        ...           ...  \n",
       "KR_7223353740           1758   True        200   0.709677        -397.0  \n",
       "KR_7219217995           2010   True        100   0.257143        -595.0  \n",
       "KR_7219171692            915   True        100   0.294118        -399.0  \n",
       "KR_7219121163           1177   True        100   0.333333        -291.0  \n",
       "KR_7219039482           1809   True        100   0.312500       -1411.0  \n",
       "\n",
       "[505 rows x 11 columns]"
      ]
     },
     "execution_count": 21,
     "metadata": {},
     "output_type": "execute_result"
    }
   ],
   "source": [
    "def qing_timeline(qing_df):\n",
    "    list_matchId = []\n",
    "    list_side = []\n",
    "    list_forward = []\n",
    "    list_golddiff = []\n",
    " \n",
    "    for matchIndex, match in enumerate(list_match_timeline_data_whereMid):\n",
    "        time_forward = []\n",
    "\n",
    "        match_metadata = json.loads(match[0])\n",
    "        list_matchId.append(match_metadata['matchId'])\n",
    "        for idx, player_puuid in enumerate(match_metadata['participants']):\n",
    "            if player_puuid == mid_kr_puuid:\n",
    "                index_qing = idx\n",
    "     \n",
    "        for idx, participant in enumerate(json.loads(list_match_end_data_whereMid[matchIndex][1])['participants']):\n",
    "            if (participant['teamPosition'] == \"MIDDLE\") and (participant['puuid']) != mid_kr_puuid:\n",
    "                index_ennemy = idx\n",
    "                side_ennemy = participant['teamId']\n",
    "                if side_ennemy == 100 : \n",
    "                    side_qing = 200 \n",
    "                    list_side.append(side_qing)\n",
    "                else : \n",
    "                    side_qing = 100\n",
    "                    list_side.append(side_qing)\n",
    "            \n",
    "\n",
    "        match_info = json.loads(match[1])\n",
    "        \n",
    "        if len(match_info['frames']) > 16 :\n",
    "            qing_gold_15 = match_info['frames'][15]['participantFrames'][str(index_qing+1)]['totalGold']\n",
    "            ennemy_gold_15 = match_info['frames'][15]['participantFrames'][str(index_ennemy+1)]['totalGold']\n",
    "            list_golddiff.append((qing_gold_15- ennemy_gold_15))\n",
    "        else :\n",
    "            list_golddiff.append(None)\n",
    "\n",
    "        for frame in match_info['frames'] :  \n",
    "            x = frame['participantFrames'][str(index_qing+1)]['position']['x']\n",
    "            y = frame['participantFrames'][str(index_qing+1)]['position']['y']\n",
    "\n",
    "            time_forward.append(is_forward(x,y,side_qing))\n",
    "        list_forward.append(statistics.mean(time_forward))\n",
    "    \n",
    "    current_game = pd.DataFrame({'ally_side' : list_side,'forward_%' : list_forward, 'gold_diff@15' : list_golddiff} ,index=list_matchId)\n",
    "    qing_df = qing_df.merge(current_game, left_index=True, right_index=True, how='left')\n",
    "\n",
    "    return qing_df\n",
    "data = qing_timeline(qing_to_df())\n",
    "data"
   ]
  },
  {
   "cell_type": "code",
   "execution_count": 22,
   "metadata": {},
   "outputs": [
    {
     "data": {
      "text/html": [
       "<div>\n",
       "<style scoped>\n",
       "    .dataframe tbody tr th:only-of-type {\n",
       "        vertical-align: middle;\n",
       "    }\n",
       "\n",
       "    .dataframe tbody tr th {\n",
       "        vertical-align: top;\n",
       "    }\n",
       "\n",
       "    .dataframe thead th {\n",
       "        text-align: right;\n",
       "    }\n",
       "</style>\n",
       "<table border=\"1\" class=\"dataframe\">\n",
       "  <thead>\n",
       "    <tr style=\"text-align: right;\">\n",
       "      <th></th>\n",
       "      <th>champion</th>\n",
       "      <th>kills</th>\n",
       "      <th>assists</th>\n",
       "      <th>deaths</th>\n",
       "      <th>kda</th>\n",
       "      <th>cs/min</th>\n",
       "      <th>game_duration</th>\n",
       "      <th>win</th>\n",
       "      <th>ally_side</th>\n",
       "      <th>forward_%</th>\n",
       "      <th>gold_diff@15</th>\n",
       "    </tr>\n",
       "  </thead>\n",
       "  <tbody>\n",
       "    <tr>\n",
       "      <th>KR_7277245614</th>\n",
       "      <td>Ziggs</td>\n",
       "      <td>3</td>\n",
       "      <td>8</td>\n",
       "      <td>2</td>\n",
       "      <td>5.500000</td>\n",
       "      <td>8.478261</td>\n",
       "      <td>1414</td>\n",
       "      <td>True</td>\n",
       "      <td>100</td>\n",
       "      <td>0.280000</td>\n",
       "      <td>0.0</td>\n",
       "    </tr>\n",
       "    <tr>\n",
       "      <th>KR_7277191080</th>\n",
       "      <td>Yone</td>\n",
       "      <td>2</td>\n",
       "      <td>4</td>\n",
       "      <td>7</td>\n",
       "      <td>0.857143</td>\n",
       "      <td>8.629630</td>\n",
       "      <td>1670</td>\n",
       "      <td>False</td>\n",
       "      <td>100</td>\n",
       "      <td>0.103448</td>\n",
       "      <td>0.0</td>\n",
       "    </tr>\n",
       "    <tr>\n",
       "      <th>KR_7277107558</th>\n",
       "      <td>Tristana</td>\n",
       "      <td>7</td>\n",
       "      <td>5</td>\n",
       "      <td>4</td>\n",
       "      <td>3.000000</td>\n",
       "      <td>9.533333</td>\n",
       "      <td>1845</td>\n",
       "      <td>True</td>\n",
       "      <td>100</td>\n",
       "      <td>0.156250</td>\n",
       "      <td>0.0</td>\n",
       "    </tr>\n",
       "    <tr>\n",
       "      <th>KR_7277064011</th>\n",
       "      <td>Smolder</td>\n",
       "      <td>3</td>\n",
       "      <td>1</td>\n",
       "      <td>1</td>\n",
       "      <td>4.000000</td>\n",
       "      <td>10.200000</td>\n",
       "      <td>914</td>\n",
       "      <td>True</td>\n",
       "      <td>100</td>\n",
       "      <td>0.058824</td>\n",
       "      <td>0.0</td>\n",
       "    </tr>\n",
       "    <tr>\n",
       "      <th>KR_7276973233</th>\n",
       "      <td>Smolder</td>\n",
       "      <td>4</td>\n",
       "      <td>4</td>\n",
       "      <td>6</td>\n",
       "      <td>1.333333</td>\n",
       "      <td>9.730769</td>\n",
       "      <td>1612</td>\n",
       "      <td>False</td>\n",
       "      <td>100</td>\n",
       "      <td>0.071429</td>\n",
       "      <td>0.0</td>\n",
       "    </tr>\n",
       "    <tr>\n",
       "      <th>...</th>\n",
       "      <td>...</td>\n",
       "      <td>...</td>\n",
       "      <td>...</td>\n",
       "      <td>...</td>\n",
       "      <td>...</td>\n",
       "      <td>...</td>\n",
       "      <td>...</td>\n",
       "      <td>...</td>\n",
       "      <td>...</td>\n",
       "      <td>...</td>\n",
       "      <td>...</td>\n",
       "    </tr>\n",
       "    <tr>\n",
       "      <th>KR_6926873782</th>\n",
       "      <td>TwistedFate</td>\n",
       "      <td>4</td>\n",
       "      <td>4</td>\n",
       "      <td>4</td>\n",
       "      <td>2.000000</td>\n",
       "      <td>7.809524</td>\n",
       "      <td>1295</td>\n",
       "      <td>True</td>\n",
       "      <td>200</td>\n",
       "      <td>0.652174</td>\n",
       "      <td>0.0</td>\n",
       "    </tr>\n",
       "    <tr>\n",
       "      <th>KR_6926509000</th>\n",
       "      <td>Ekko</td>\n",
       "      <td>1</td>\n",
       "      <td>6</td>\n",
       "      <td>4</td>\n",
       "      <td>1.750000</td>\n",
       "      <td>7.666667</td>\n",
       "      <td>1291</td>\n",
       "      <td>True</td>\n",
       "      <td>200</td>\n",
       "      <td>0.739130</td>\n",
       "      <td>0.0</td>\n",
       "    </tr>\n",
       "    <tr>\n",
       "      <th>KR_6926493212</th>\n",
       "      <td>Ekko</td>\n",
       "      <td>6</td>\n",
       "      <td>6</td>\n",
       "      <td>1</td>\n",
       "      <td>12.000000</td>\n",
       "      <td>10.500000</td>\n",
       "      <td>1123</td>\n",
       "      <td>True</td>\n",
       "      <td>100</td>\n",
       "      <td>0.250000</td>\n",
       "      <td>0.0</td>\n",
       "    </tr>\n",
       "    <tr>\n",
       "      <th>KR_6926456239</th>\n",
       "      <td>TwistedFate</td>\n",
       "      <td>10</td>\n",
       "      <td>1</td>\n",
       "      <td>5</td>\n",
       "      <td>2.200000</td>\n",
       "      <td>7.444444</td>\n",
       "      <td>1635</td>\n",
       "      <td>False</td>\n",
       "      <td>200</td>\n",
       "      <td>0.551724</td>\n",
       "      <td>0.0</td>\n",
       "    </tr>\n",
       "    <tr>\n",
       "      <th>KR_6926401755</th>\n",
       "      <td>Leblanc</td>\n",
       "      <td>7</td>\n",
       "      <td>4</td>\n",
       "      <td>1</td>\n",
       "      <td>11.000000</td>\n",
       "      <td>9.222222</td>\n",
       "      <td>1116</td>\n",
       "      <td>True</td>\n",
       "      <td>200</td>\n",
       "      <td>0.750000</td>\n",
       "      <td>0.0</td>\n",
       "    </tr>\n",
       "  </tbody>\n",
       "</table>\n",
       "<p>399 rows × 11 columns</p>\n",
       "</div>"
      ],
      "text/plain": [
       "                  champion  kills  assists  deaths        kda     cs/min  \\\n",
       "KR_7277245614        Ziggs      3        8       2   5.500000   8.478261   \n",
       "KR_7277191080         Yone      2        4       7   0.857143   8.629630   \n",
       "KR_7277107558     Tristana      7        5       4   3.000000   9.533333   \n",
       "KR_7277064011      Smolder      3        1       1   4.000000  10.200000   \n",
       "KR_7276973233      Smolder      4        4       6   1.333333   9.730769   \n",
       "...                    ...    ...      ...     ...        ...        ...   \n",
       "KR_6926873782  TwistedFate      4        4       4   2.000000   7.809524   \n",
       "KR_6926509000         Ekko      1        6       4   1.750000   7.666667   \n",
       "KR_6926493212         Ekko      6        6       1  12.000000  10.500000   \n",
       "KR_6926456239  TwistedFate     10        1       5   2.200000   7.444444   \n",
       "KR_6926401755      Leblanc      7        4       1  11.000000   9.222222   \n",
       "\n",
       "               game_duration    win  ally_side  forward_%  gold_diff@15  \n",
       "KR_7277245614           1414   True        100   0.280000           0.0  \n",
       "KR_7277191080           1670  False        100   0.103448           0.0  \n",
       "KR_7277107558           1845   True        100   0.156250           0.0  \n",
       "KR_7277064011            914   True        100   0.058824           0.0  \n",
       "KR_7276973233           1612  False        100   0.071429           0.0  \n",
       "...                      ...    ...        ...        ...           ...  \n",
       "KR_6926873782           1295   True        200   0.652174           0.0  \n",
       "KR_6926509000           1291   True        200   0.739130           0.0  \n",
       "KR_6926493212           1123   True        100   0.250000           0.0  \n",
       "KR_6926456239           1635  False        200   0.551724           0.0  \n",
       "KR_6926401755           1116   True        200   0.750000           0.0  \n",
       "\n",
       "[399 rows x 11 columns]"
      ]
     },
     "execution_count": 22,
     "metadata": {},
     "output_type": "execute_result"
    }
   ],
   "source": [
    "def faker_timeline(faker_df):\n",
    "    list_matchId = []\n",
    "    list_side = []\n",
    "    list_forward = []\n",
    "    list_golddiff = []\n",
    " \n",
    "    for matchIndex, match in enumerate(faker_list_match_timeline_data_whereMid):\n",
    "        time_forward = []\n",
    "\n",
    "        match_metadata = json.loads(match[0])\n",
    "        list_matchId.append(match_metadata['matchId'])\n",
    "        for idx, player_puuid in enumerate(match_metadata['participants']):\n",
    "            if player_puuid == faker_puuid:\n",
    "                index_faker = idx\n",
    "     \n",
    "        for idx, participant in enumerate(json.loads(faker_list_match_end_data_whereMid[matchIndex][1])['participants']):\n",
    "            if (participant['teamPosition'] == \"MIDDLE\") and (participant['puuid']) != faker_puuid:\n",
    "                index_ennemy = idx\n",
    "                side_ennemy = participant['teamId']\n",
    "                if side_ennemy == 100 : \n",
    "                    side_faker = 200 \n",
    "                    list_side.append(side_faker)\n",
    "                else : \n",
    "                    side_faker = 100\n",
    "                    list_side.append(side_faker)\n",
    "            \n",
    "\n",
    "        match_info = json.loads(match[1])\n",
    "        \n",
    "        if len(match_info['frames']) > 16 :\n",
    "            faker_gold_15 = match_info['frames'][15]['participantFrames'][str(index_faker+1)]['totalGold']\n",
    "            ennemy_gold_15 = match_info['frames'][15]['participantFrames'][str(index_faker+1)]['totalGold']\n",
    "            list_golddiff.append((faker_gold_15- ennemy_gold_15))\n",
    "        else :\n",
    "            list_golddiff.append(None)\n",
    "\n",
    "        for frame in match_info['frames'] :  \n",
    "            x = frame['participantFrames'][str(index_faker+1)]['position']['x']\n",
    "            y = frame['participantFrames'][str(index_faker+1)]['position']['y']\n",
    "\n",
    "            time_forward.append(is_forward(x,y,side_faker))\n",
    "        list_forward.append(statistics.mean(time_forward))\n",
    "    \n",
    "    current_game = pd.DataFrame({'ally_side' : list_side,'forward_%' : list_forward, 'gold_diff@15' : list_golddiff} ,index=list_matchId)\n",
    "    faker_df = faker_df.merge(current_game, left_index=True, right_index=True, how='left')\n",
    "\n",
    "    return faker_df\n",
    "faker_data = faker_timeline(faker_to_df())\n",
    "faker_data"
   ]
  },
  {
   "cell_type": "markdown",
   "metadata": {},
   "source": [
    "### Position tests"
   ]
  },
  {
   "cell_type": "code",
   "execution_count": 11,
   "metadata": {},
   "outputs": [
    {
     "data": {
      "text/plain": [
       "{'x': 14539, 'y': 14394}"
      ]
     },
     "execution_count": 11,
     "metadata": {},
     "output_type": "execute_result"
    }
   ],
   "source": [
    "json.loads(list_match_timeline_data_whereMid[0][1])['frames'][0]['participantFrames']['7']['position']"
   ]
  },
  {
   "cell_type": "code",
   "execution_count": 12,
   "metadata": {},
   "outputs": [
    {
     "data": {
      "text/plain": [
       "False"
      ]
     },
     "execution_count": 12,
     "metadata": {},
     "output_type": "execute_result"
    }
   ],
   "source": [
    "json.loads(list_match_end_data_whereMid[0][1])['participants'][0]['win']"
   ]
  },
  {
   "cell_type": "code",
   "execution_count": 13,
   "metadata": {},
   "outputs": [
    {
     "data": {
      "text/plain": [
       "<matplotlib.collections.PathCollection at 0x1695fa71790>"
      ]
     },
     "execution_count": 13,
     "metadata": {},
     "output_type": "execute_result"
    },
    {
     "data": {
      "image/png": "[encoded data removed]",
      "text/plain": [
       "<Figure size 640x480 with 1 Axes>"
      ]
     },
     "metadata": {},
     "output_type": "display_data"
    }
   ],
   "source": [
    "plt.plot(range(16000,0,-10),range(0,16000,10))\n",
    "plt.scatter(json.loads(list_match_timeline_data_whereMid[0][1])['frames'][0]['participantFrames']['7']['position']['x'], json.loads(list_match_timeline_data_whereMid[0][1])['frames'][0]['participantFrames']['7']['position']['y'])\n",
    "plt.scatter(json.loads(list_match_timeline_data_whereMid[0][1])['frames'][0]['participantFrames']['2']['position']['x'], json.loads(list_match_timeline_data_whereMid[0][1])['frames'][0]['participantFrames']['2']['position']['y'])"
   ]
  },
  {
   "cell_type": "markdown",
   "metadata": {},
   "source": [
    "### Bubble chart test"
   ]
  },
  {
   "cell_type": "code",
   "execution_count": 26,
   "metadata": {},
   "outputs": [],
   "source": [
    "class BubbleChart:\n",
    "    def __init__(self, area, bubble_spacing=0):\n",
    "        \"\"\"\n",
    "        Setup for bubble collapse.\n",
    "\n",
    "        Parameters\n",
    "        ----------\n",
    "        area : array-like\n",
    "            Area of the bubbles.\n",
    "        bubble_spacing : float, default: 0\n",
    "            Minimal spacing between bubbles after collapsing.\n",
    "\n",
    "        Notes\n",
    "        -----\n",
    "        If \"area\" is sorted, the results might look weird.\n",
    "        \"\"\"\n",
    "        area = np.asarray(area)\n",
    "        r = np.sqrt(area / np.pi)\n",
    "\n",
    "        self.bubble_spacing = bubble_spacing\n",
    "        self.bubbles = np.ones((len(area), 4))\n",
    "        self.bubbles[:, 2] = r\n",
    "        self.bubbles[:, 3] = area\n",
    "        self.maxstep = 2 * self.bubbles[:, 2].max() + self.bubble_spacing\n",
    "        self.step_dist = self.maxstep / 2\n",
    "\n",
    "        # calculate initial grid layout for bubbles\n",
    "        length = np.ceil(np.sqrt(len(self.bubbles)))\n",
    "        grid = np.arange(length) * self.maxstep\n",
    "        gx, gy = np.meshgrid(grid, grid)\n",
    "        self.bubbles[:, 0] = gx.flatten()[:len(self.bubbles)]\n",
    "        self.bubbles[:, 1] = gy.flatten()[:len(self.bubbles)]\n",
    "\n",
    "        self.com = self.center_of_mass()\n",
    "\n",
    "    def center_of_mass(self):\n",
    "        return np.average(\n",
    "            self.bubbles[:, :2], axis=0, weights=self.bubbles[:, 3]\n",
    "        )\n",
    "\n",
    "    def center_distance(self, bubble, bubbles):\n",
    "        return np.hypot(bubble[0] - bubbles[:, 0],\n",
    "                        bubble[1] - bubbles[:, 1])\n",
    "\n",
    "    def outline_distance(self, bubble, bubbles):\n",
    "        center_distance = self.center_distance(bubble, bubbles)\n",
    "        return center_distance - bubble[2] - \\\n",
    "            bubbles[:, 2] - self.bubble_spacing\n",
    "\n",
    "    def check_collisions(self, bubble, bubbles):\n",
    "        distance = self.outline_distance(bubble, bubbles)\n",
    "        return len(distance[distance < 0])\n",
    "\n",
    "    def collides_with(self, bubble, bubbles):\n",
    "        distance = self.outline_distance(bubble, bubbles)\n",
    "        return np.argmin(distance, keepdims=True)\n",
    "\n",
    "    def collapse(self, n_iterations=50):\n",
    "        \"\"\"\n",
    "        Move bubbles to the center of mass.\n",
    "\n",
    "        Parameters\n",
    "        ----------\n",
    "        n_iterations : int, default: 50\n",
    "            Number of moves to perform.\n",
    "        \"\"\"\n",
    "        for _i in range(n_iterations):\n",
    "            moves = 0\n",
    "            for i in range(len(self.bubbles)):\n",
    "                rest_bub = np.delete(self.bubbles, i, 0)\n",
    "                # try to move directly towards the center of mass\n",
    "                # direction vector from bubble to the center of mass\n",
    "                dir_vec = self.com - self.bubbles[i, :2]\n",
    "\n",
    "                # shorten direction vector to have length of 1\n",
    "                dir_vec = dir_vec / np.sqrt(dir_vec.dot(dir_vec))\n",
    "\n",
    "                # calculate new bubble position\n",
    "                new_point = self.bubbles[i, :2] + dir_vec * self.step_dist\n",
    "                new_bubble = np.append(new_point, self.bubbles[i, 2:4])\n",
    "\n",
    "                # check whether new bubble collides with other bubbles\n",
    "                if not self.check_collisions(new_bubble, rest_bub):\n",
    "                    self.bubbles[i, :] = new_bubble\n",
    "                    self.com = self.center_of_mass()\n",
    "                    moves += 1\n",
    "                else:\n",
    "                    # try to move around a bubble that you collide with\n",
    "                    # find colliding bubble\n",
    "                    for colliding in self.collides_with(new_bubble, rest_bub):\n",
    "                        # calculate direction vector\n",
    "                        dir_vec = rest_bub[colliding, :2] - self.bubbles[i, :2]\n",
    "                        dir_vec = dir_vec / np.sqrt(dir_vec.dot(dir_vec))\n",
    "                        # calculate orthogonal vector\n",
    "                        orth = np.array([dir_vec[1], -dir_vec[0]])\n",
    "                        # test which direction to go\n",
    "                        new_point1 = (self.bubbles[i, :2] + orth *\n",
    "                                      self.step_dist)\n",
    "                        new_point2 = (self.bubbles[i, :2] - orth *\n",
    "                                      self.step_dist)\n",
    "                        dist1 = self.center_distance(\n",
    "                            self.com, np.array([new_point1]))\n",
    "                        dist2 = self.center_distance(\n",
    "                            self.com, np.array([new_point2]))\n",
    "                        new_point = new_point1 if dist1 < dist2 else new_point2\n",
    "                        new_bubble = np.append(new_point, self.bubbles[i, 2:4])\n",
    "                        if not self.check_collisions(new_bubble, rest_bub):\n",
    "                            self.bubbles[i, :] = new_bubble\n",
    "                            self.com = self.center_of_mass()\n",
    "\n",
    "            if moves / len(self.bubbles) < 0.1:\n",
    "                self.step_dist = self.step_dist / 2\n",
    "\n",
    "    def plot(self, ax, labels, colors):\n",
    "        \"\"\"\n",
    "        Draw the bubble plot.\n",
    "\n",
    "        Parameters\n",
    "        ----------\n",
    "        ax : matplotlib.axes.Axes\n",
    "        labels : list\n",
    "            Labels of the bubbles.\n",
    "        colors : list\n",
    "            Colors of the bubbles.\n",
    "        \"\"\"\n",
    "        for i in range(len(self.bubbles)):\n",
    "            circ = plt.Circle(\n",
    "                self.bubbles[i, :2], self.bubbles[i, 2], color=colors[i])\n",
    "            ax.add_patch(circ)\n",
    "            ax.text(*self.bubbles[i, :2], labels[i],\n",
    "                    horizontalalignment='center', verticalalignment='center')"
   ]
  },
  {
   "cell_type": "code",
   "execution_count": 27,
   "metadata": {},
   "outputs": [
    {
     "name": "stdout",
     "output_type": "stream",
     "text": [
      "Counter({'Smolder': 76, 'Aurora': 51, 'Syndra': 48, 'Sylas': 41, 'Hwei': 40, 'Jayce': 38, 'Orianna': 25, 'Taliyah': 25, 'Veigar': 24, 'Yone': 13, 'Vex': 13, 'Ahri': 13, 'AurelionSol': 11, 'Galio': 11, 'Zoe': 8, 'Ziggs': 8, 'Tristana': 7, 'Diana': 7, 'Akshan': 6, 'Corki': 6, 'Ryze': 5, 'Tryndamere': 5, 'Yasuo': 3, 'Garen': 3, 'Zeri': 3, 'Xerath': 2, 'TwistedFate': 2, 'Anivia': 1, 'Ezreal': 1, 'Lucian': 1, 'Lissandra': 1, 'Vladimir': 1, 'Jhin': 1, 'Neeko': 1, 'Akali': 1, 'Leblanc': 1, 'Nasus': 1, 'Sivir': 1})\n"
     ]
    }
   ],
   "source": [
    "from collections import Counter\n",
    "champion_list = data['champion']\n",
    "count_champs = Counter(champion_list)\n",
    "print(count_champs)"
   ]
  },
  {
   "cell_type": "code",
   "execution_count": 28,
   "metadata": {},
   "outputs": [],
   "source": [
    "import random\n",
    "\n",
    "N = len(count_champs)\n",
    "\n",
    "# liste de couleurs hexadécimales\n",
    "liste_couleurs_hex = [f'#{random.randint(0, 0xFFFFFF):06X}' for _ in range(N)]\n"
   ]
  },
  {
   "cell_type": "code",
   "execution_count": 29,
   "metadata": {},
   "outputs": [
    {
     "data": {
      "image/png": "[encoded data removed]",
      "text/plain": [
       "<Figure size 640x480 with 1 Axes>"
      ]
     },
     "metadata": {},
     "output_type": "display_data"
    }
   ],
   "source": [
    "\n",
    "bubble_chart = BubbleChart(area=list((count_champs.values())),\n",
    "                           bubble_spacing=0.5)\n",
    "\n",
    "bubble_chart.collapse()\n",
    "\n",
    "\n",
    "fig, ax = plt.subplots(subplot_kw=dict(aspect=\"equal\"))\n",
    "bubble_chart.plot(\n",
    "    ax, list((count_champs.keys())),liste_couleurs_hex)\n",
    "ax.axis(\"off\")\n",
    "ax.relim()\n",
    "ax.autoscale_view()\n",
    "ax.set_title('Champs in bubbles !')\n",
    "\n",
    "plt.show()"
   ]
  },
  {
   "cell_type": "markdown",
   "metadata": {},
   "source": [
    "# Dash appli"
   ]
  },
  {
   "cell_type": "code",
   "execution_count": 40,
   "metadata": {},
   "outputs": [],
   "source": [
    "def compute_metrics(player_data) :\n",
    "\n",
    "    kda = player_data['kda'].mean()\n",
    "    cs_min = player_data['cs/min'].mean()\n",
    "    gold_diff = player_data['gold_diff@15'].mean()\n",
    "    forward_percent = player_data['forward_%'].mean() * 100\n",
    "    winrate_percent = (player_data['win'].value_counts().get(True,0) / len(player_data)) *100\n",
    "\n",
    "    return {\"kda\" : kda, \"cs_min\" : cs_min, \"gold_diff\" : gold_diff, \"forward_percent\" : forward_percent, \"winrate_percent\" : winrate_percent}"
   ]
  },
  {
   "cell_type": "code",
   "execution_count": 41,
   "metadata": {},
   "outputs": [],
   "source": [
    "from dash import html\n",
    "def generate_kpi_cards(data):\n",
    "    \n",
    "    qing_metrics = compute_metrics(data)\n",
    "    #avg_kills = data['kills'].mean() if not data.empty else 0\n",
    "    avg_cs_min = qing_metrics['cs_min']\n",
    "    avg_kda = qing_metrics['kda']\n",
    "    avg_gold_diff = qing_metrics['gold_diff']\n",
    "    avg_forward_percent = qing_metrics['forward_percent']\n",
    "    winrate_percent = qing_metrics['winrate_percent']\n",
    "    #KPI style creation\n",
    "    return[\n",
    "        html.Div(\n",
    "            className=\"kpi-card\",\n",
    "            children=[\n",
    "                html.H3(\"KDA\"),\n",
    "                html.H2(f\"{avg_kda:.2f}\")\n",
    "            ]\n",
    "        ),\n",
    "        html.Div(\n",
    "            className=\"kpi-card\",\n",
    "            children=[\n",
    "                html.H3(\"CS/Min\"),\n",
    "                html.H2(f\"{avg_cs_min:.2f}\")\n",
    "            ]),\n",
    "            \n",
    "        html.Div(\n",
    "            className=\"kpi-card\",\n",
    "            children=[\n",
    "                html.H3(\"Gold diff @15\"),\n",
    "                html.H2(f\"{avg_gold_diff:.2f}\")\n",
    "            ]),\n",
    "\n",
    "        html.Div(\n",
    "            className=\"kpi-card\",\n",
    "            children=[\n",
    "                html.H3(\"Forward %\"),\n",
    "                html.H2(f\"{avg_forward_percent:.2f}\")\n",
    "            ]),\n",
    "\n",
    "        html.Div(\n",
    "            className=\"kpi-card\",\n",
    "            children=[\n",
    "                html.H3(\"Winrate\"),\n",
    "                html.H2(f\"{winrate_percent:.2f}\")\n",
    "            ])\n",
    "    ]"
   ]
  },
  {
   "cell_type": "code",
   "execution_count": 42,
   "metadata": {},
   "outputs": [],
   "source": [
    "hist_champions_winrates = px.histogram(x=data['champion'], color=data['win'], barmode='group',color_discrete_sequence=px.colors.qualitative.Set1, title=\"List of champions win and lose\",\n",
    "                   labels={\n",
    "                       \"x\" : \"Champions\",\n",
    "                       \"color\" : \"Win\"\n",
    "                   }).update_xaxes(categoryorder='total descending')"
   ]
  },
  {
   "cell_type": "code",
   "execution_count": 43,
   "metadata": {},
   "outputs": [
    {
     "data": {
      "text/html": [
       "\n",
       "        <iframe\n",
       "            width=\"100%\"\n",
       "            height=\"650\"\n",
       "            src=\"http://127.0.0.1:8050/\"\n",
       "            frameborder=\"0\"\n",
       "            allowfullscreen\n",
       "            \n",
       "        ></iframe>\n",
       "        "
      ],
      "text/plain": [
       "<IPython.lib.display.IFrame at 0x23db3898b60>"
      ]
     },
     "metadata": {},
     "output_type": "display_data"
    }
   ],
   "source": [
    "app = dash.Dash(\"nom\")\n",
    "\n",
    "app.layout = dash.html.Div([\n",
    "    dash.html.H1(\"DataFrame\"),\n",
    "    dash.dcc.Dropdown(list(count_champs.keys()), id=\"filter_dataframe\", multi=True, placeholder=\"Filter on a champion\", value=[]),\n",
    "\n",
    "\n",
    "    #components\n",
    "    dash.dash_table.DataTable(\n",
    "        id='table',\n",
    "        columns=[{\"name\" : i , \"id\" : i} for i in data.columns],\n",
    "        data=data.to_dict('records'),\n",
    "        filter_action=\"native\",\n",
    "        sort_action=\"native\",  #tri\n",
    "        page_size=10, \n",
    "        style_cell={\n",
    "            'fontFamily' : \"Roboto, sans-serif\"\n",
    "        }\n",
    "\n",
    "    ),\n",
    "\n",
    "\n",
    "    dash.html.Div(id=\"kpi_cards\", style={'display': 'flex', 'gap': '20px'}),\n",
    "\n",
    "    dash.dcc.Graph(figure=hist_champions_winrates)\n",
    "])\n",
    "\n",
    "@dash.callback(\n",
    "        dash.Output(\"table\",\"data\"),\n",
    "        dash.Input(\"filter_dataframe\",\"value\")\n",
    ")\n",
    "def filter_dataframe_and_update(filter_value):\n",
    "    if not filter_value:  #df de base\n",
    "        return data.to_dict('records')\n",
    "    #filter\n",
    "    filtered_df = data[data['champion'].isin(filter_value)]\n",
    "    return filtered_df.to_dict('records')\n",
    "\n",
    "@dash.callback(\n",
    "        dash.Output(\"kpi_cards\",\"children\"),\n",
    "        dash.Input(\"table\",\"data\")\n",
    ")\n",
    "def update_kpi(filter_data):\n",
    "    filter_df = pd.DataFrame(filter_data)\n",
    "    return generate_kpi_cards(filter_df)\n",
    "\n",
    "\n",
    "app.run_server(debug=True)"
   ]
  },
  {
   "cell_type": "code",
   "execution_count": 33,
   "metadata": {},
   "outputs": [],
   "source": [
    "# add ward map\n",
    "# compare with faker maybe (spider/radar chart)"
   ]
  },
  {
   "cell_type": "code",
   "execution_count": 47,
   "metadata": {},
   "outputs": [
    {
     "name": "stdout",
     "output_type": "stream",
     "text": [
      "dict_values([np.float64(4.438730873087309), np.float64(7.886367344876574), np.float64(236.53493013972056), np.float64(34.231159283986194), np.float64(54.25742574257426)])\n",
      "dict_values([np.float64(4.345296891913433), np.float64(8.648857149185003), np.float64(0.0), np.float64(38.912736162989304), np.float64(58.39598997493734)])\n"
     ]
    },
    {
     "data": {
      "application/vnd.plotly.v1+json": {
       "config": {
        "plotlyServerURL": "https://plot.ly"
       },
       "data": [
        {
         "name": "Qing",
         "r": [],
         "theta": [
          "KDA",
          "CS/Min",
          "Gold diff @15",
          "Forward %",
          "Winrate"
         ],
         "type": "scatterpolar"
        },
        {
         "name": "Faker",
         "r": [],
         "theta": [
          "KDA",
          "CS/Min",
          "Gold diff @15",
          "Forward %",
          "Winrate"
         ],
         "type": "scatterpolar"
        }
       ],
       "layout": {
        "template": {
         "data": {
          "bar": [
           {
            "error_x": {
             "color": "#2a3f5f"
            },
            "error_y": {
             "color": "#2a3f5f"
            },
            "marker": {
             "line": {
              "color": "#E5ECF6",
              "width": 0.5
             },
             "pattern": {
              "fillmode": "overlay",
              "size": 10,
              "solidity": 0.2
             }
            },
            "type": "bar"
           }
          ],
          "barpolar": [
           {
            "marker": {
             "line": {
              "color": "#E5ECF6",
              "width": 0.5
             },
             "pattern": {
              "fillmode": "overlay",
              "size": 10,
              "solidity": 0.2
             }
            },
            "type": "barpolar"
           }
          ],
          "carpet": [
           {
            "aaxis": {
             "endlinecolor": "#2a3f5f",
             "gridcolor": "white",
             "linecolor": "white",
             "minorgridcolor": "white",
             "startlinecolor": "#2a3f5f"
            },
            "baxis": {
             "endlinecolor": "#2a3f5f",
             "gridcolor": "white",
             "linecolor": "white",
             "minorgridcolor": "white",
             "startlinecolor": "#2a3f5f"
            },
            "type": "carpet"
           }
          ],
          "choropleth": [
           {
            "colorbar": {
             "outlinewidth": 0,
             "ticks": ""
            },
            "type": "choropleth"
           }
          ],
          "contour": [
           {
            "colorbar": {
             "outlinewidth": 0,
             "ticks": ""
            },
            "colorscale": [
             [
              0,
              "#0d0887"
             ],
             [
              0.1111111111111111,
              "#46039f"
             ],
             [
              0.2222222222222222,
              "#7201a8"
             ],
             [
              0.3333333333333333,
              "#9c179e"
             ],
             [
              0.4444444444444444,
              "#bd3786"
             ],
             [
              0.5555555555555556,
              "#d8576b"
             ],
             [
              0.6666666666666666,
              "#ed7953"
             ],
             [
              0.7777777777777778,
              "#fb9f3a"
             ],
             [
              0.8888888888888888,
              "#fdca26"
             ],
             [
              1,
              "#f0f921"
             ]
            ],
            "type": "contour"
           }
          ],
          "contourcarpet": [
           {
            "colorbar": {
             "outlinewidth": 0,
             "ticks": ""
            },
            "type": "contourcarpet"
           }
          ],
          "heatmap": [
           {
            "colorbar": {
             "outlinewidth": 0,
             "ticks": ""
            },
            "colorscale": [
             [
              0,
              "#0d0887"
             ],
             [
              0.1111111111111111,
              "#46039f"
             ],
             [
              0.2222222222222222,
              "#7201a8"
             ],
             [
              0.3333333333333333,
              "#9c179e"
             ],
             [
              0.4444444444444444,
              "#bd3786"
             ],
             [
              0.5555555555555556,
              "#d8576b"
             ],
             [
              0.6666666666666666,
              "#ed7953"
             ],
             [
              0.7777777777777778,
              "#fb9f3a"
             ],
             [
              0.8888888888888888,
              "#fdca26"
             ],
             [
              1,
              "#f0f921"
             ]
            ],
            "type": "heatmap"
           }
          ],
          "heatmapgl": [
           {
            "colorbar": {
             "outlinewidth": 0,
             "ticks": ""
            },
            "colorscale": [
             [
              0,
              "#0d0887"
             ],
             [
              0.1111111111111111,
              "#46039f"
             ],
             [
              0.2222222222222222,
              "#7201a8"
             ],
             [
              0.3333333333333333,
              "#9c179e"
             ],
             [
              0.4444444444444444,
              "#bd3786"
             ],
             [
              0.5555555555555556,
              "#d8576b"
             ],
             [
              0.6666666666666666,
              "#ed7953"
             ],
             [
              0.7777777777777778,
              "#fb9f3a"
             ],
             [
              0.8888888888888888,
              "#fdca26"
             ],
             [
              1,
              "#f0f921"
             ]
            ],
            "type": "heatmapgl"
           }
          ],
          "histogram": [
           {
            "marker": {
             "pattern": {
              "fillmode": "overlay",
              "size": 10,
              "solidity": 0.2
             }
            },
            "type": "histogram"
           }
          ],
          "histogram2d": [
           {
            "colorbar": {
             "outlinewidth": 0,
             "ticks": ""
            },
            "colorscale": [
             [
              0,
              "#0d0887"
             ],
             [
              0.1111111111111111,
              "#46039f"
             ],
             [
              0.2222222222222222,
              "#7201a8"
             ],
             [
              0.3333333333333333,
              "#9c179e"
             ],
             [
              0.4444444444444444,
              "#bd3786"
             ],
             [
              0.5555555555555556,
              "#d8576b"
             ],
             [
              0.6666666666666666,
              "#ed7953"
             ],
             [
              0.7777777777777778,
              "#fb9f3a"
             ],
             [
              0.8888888888888888,
              "#fdca26"
             ],
             [
              1,
              "#f0f921"
             ]
            ],
            "type": "histogram2d"
           }
          ],
          "histogram2dcontour": [
           {
            "colorbar": {
             "outlinewidth": 0,
             "ticks": ""
            },
            "colorscale": [
             [
              0,
              "#0d0887"
             ],
             [
              0.1111111111111111,
              "#46039f"
             ],
             [
              0.2222222222222222,
              "#7201a8"
             ],
             [
              0.3333333333333333,
              "#9c179e"
             ],
             [
              0.4444444444444444,
              "#bd3786"
             ],
             [
              0.5555555555555556,
              "#d8576b"
             ],
             [
              0.6666666666666666,
              "#ed7953"
             ],
             [
              0.7777777777777778,
              "#fb9f3a"
             ],
             [
              0.8888888888888888,
              "#fdca26"
             ],
             [
              1,
              "#f0f921"
             ]
            ],
            "type": "histogram2dcontour"
           }
          ],
          "mesh3d": [
           {
            "colorbar": {
             "outlinewidth": 0,
             "ticks": ""
            },
            "type": "mesh3d"
           }
          ],
          "parcoords": [
           {
            "line": {
             "colorbar": {
              "outlinewidth": 0,
              "ticks": ""
             }
            },
            "type": "parcoords"
           }
          ],
          "pie": [
           {
            "automargin": true,
            "type": "pie"
           }
          ],
          "scatter": [
           {
            "fillpattern": {
             "fillmode": "overlay",
             "size": 10,
             "solidity": 0.2
            },
            "type": "scatter"
           }
          ],
          "scatter3d": [
           {
            "line": {
             "colorbar": {
              "outlinewidth": 0,
              "ticks": ""
             }
            },
            "marker": {
             "colorbar": {
              "outlinewidth": 0,
              "ticks": ""
             }
            },
            "type": "scatter3d"
           }
          ],
          "scattercarpet": [
           {
            "marker": {
             "colorbar": {
              "outlinewidth": 0,
              "ticks": ""
             }
            },
            "type": "scattercarpet"
           }
          ],
          "scattergeo": [
           {
            "marker": {
             "colorbar": {
              "outlinewidth": 0,
              "ticks": ""
             }
            },
            "type": "scattergeo"
           }
          ],
          "scattergl": [
           {
            "marker": {
             "colorbar": {
              "outlinewidth": 0,
              "ticks": ""
             }
            },
            "type": "scattergl"
           }
          ],
          "scattermapbox": [
           {
            "marker": {
             "colorbar": {
              "outlinewidth": 0,
              "ticks": ""
             }
            },
            "type": "scattermapbox"
           }
          ],
          "scatterpolar": [
           {
            "marker": {
             "colorbar": {
              "outlinewidth": 0,
              "ticks": ""
             }
            },
            "type": "scatterpolar"
           }
          ],
          "scatterpolargl": [
           {
            "marker": {
             "colorbar": {
              "outlinewidth": 0,
              "ticks": ""
             }
            },
            "type": "scatterpolargl"
           }
          ],
          "scatterternary": [
           {
            "marker": {
             "colorbar": {
              "outlinewidth": 0,
              "ticks": ""
             }
            },
            "type": "scatterternary"
           }
          ],
          "surface": [
           {
            "colorbar": {
             "outlinewidth": 0,
             "ticks": ""
            },
            "colorscale": [
             [
              0,
              "#0d0887"
             ],
             [
              0.1111111111111111,
              "#46039f"
             ],
             [
              0.2222222222222222,
              "#7201a8"
             ],
             [
              0.3333333333333333,
              "#9c179e"
             ],
             [
              0.4444444444444444,
              "#bd3786"
             ],
             [
              0.5555555555555556,
              "#d8576b"
             ],
             [
              0.6666666666666666,
              "#ed7953"
             ],
             [
              0.7777777777777778,
              "#fb9f3a"
             ],
             [
              0.8888888888888888,
              "#fdca26"
             ],
             [
              1,
              "#f0f921"
             ]
            ],
            "type": "surface"
           }
          ],
          "table": [
           {
            "cells": {
             "fill": {
              "color": "#EBF0F8"
             },
             "line": {
              "color": "white"
             }
            },
            "header": {
             "fill": {
              "color": "#C8D4E3"
             },
             "line": {
              "color": "white"
             }
            },
            "type": "table"
           }
          ]
         },
         "layout": {
          "annotationdefaults": {
           "arrowcolor": "#2a3f5f",
           "arrowhead": 0,
           "arrowwidth": 1
          },
          "autotypenumbers": "strict",
          "coloraxis": {
           "colorbar": {
            "outlinewidth": 0,
            "ticks": ""
           }
          },
          "colorscale": {
           "diverging": [
            [
             0,
             "#8e0152"
            ],
            [
             0.1,
             "#c51b7d"
            ],
            [
             0.2,
             "#de77ae"
            ],
            [
             0.3,
             "#f1b6da"
            ],
            [
             0.4,
             "#fde0ef"
            ],
            [
             0.5,
             "#f7f7f7"
            ],
            [
             0.6,
             "#e6f5d0"
            ],
            [
             0.7,
             "#b8e186"
            ],
            [
             0.8,
             "#7fbc41"
            ],
            [
             0.9,
             "#4d9221"
            ],
            [
             1,
             "#276419"
            ]
           ],
           "sequential": [
            [
             0,
             "#0d0887"
            ],
            [
             0.1111111111111111,
             "#46039f"
            ],
            [
             0.2222222222222222,
             "#7201a8"
            ],
            [
             0.3333333333333333,
             "#9c179e"
            ],
            [
             0.4444444444444444,
             "#bd3786"
            ],
            [
             0.5555555555555556,
             "#d8576b"
            ],
            [
             0.6666666666666666,
             "#ed7953"
            ],
            [
             0.7777777777777778,
             "#fb9f3a"
            ],
            [
             0.8888888888888888,
             "#fdca26"
            ],
            [
             1,
             "#f0f921"
            ]
           ],
           "sequentialminus": [
            [
             0,
             "#0d0887"
            ],
            [
             0.1111111111111111,
             "#46039f"
            ],
            [
             0.2222222222222222,
             "#7201a8"
            ],
            [
             0.3333333333333333,
             "#9c179e"
            ],
            [
             0.4444444444444444,
             "#bd3786"
            ],
            [
             0.5555555555555556,
             "#d8576b"
            ],
            [
             0.6666666666666666,
             "#ed7953"
            ],
            [
             0.7777777777777778,
             "#fb9f3a"
            ],
            [
             0.8888888888888888,
             "#fdca26"
            ],
            [
             1,
             "#f0f921"
            ]
           ]
          },
          "colorway": [
           "#636efa",
           "#EF553B",
           "#00cc96",
           "#ab63fa",
           "#FFA15A",
           "#19d3f3",
           "#FF6692",
           "#B6E880",
           "#FF97FF",
           "#FECB52"
          ],
          "font": {
           "color": "#2a3f5f"
          },
          "geo": {
           "bgcolor": "white",
           "lakecolor": "white",
           "landcolor": "#E5ECF6",
           "showlakes": true,
           "showland": true,
           "subunitcolor": "white"
          },
          "hoverlabel": {
           "align": "left"
          },
          "hovermode": "closest",
          "mapbox": {
           "style": "light"
          },
          "paper_bgcolor": "white",
          "plot_bgcolor": "#E5ECF6",
          "polar": {
           "angularaxis": {
            "gridcolor": "white",
            "linecolor": "white",
            "ticks": ""
           },
           "bgcolor": "#E5ECF6",
           "radialaxis": {
            "gridcolor": "white",
            "linecolor": "white",
            "ticks": ""
           }
          },
          "scene": {
           "xaxis": {
            "backgroundcolor": "#E5ECF6",
            "gridcolor": "white",
            "gridwidth": 2,
            "linecolor": "white",
            "showbackground": true,
            "ticks": "",
            "zerolinecolor": "white"
           },
           "yaxis": {
            "backgroundcolor": "#E5ECF6",
            "gridcolor": "white",
            "gridwidth": 2,
            "linecolor": "white",
            "showbackground": true,
            "ticks": "",
            "zerolinecolor": "white"
           },
           "zaxis": {
            "backgroundcolor": "#E5ECF6",
            "gridcolor": "white",
            "gridwidth": 2,
            "linecolor": "white",
            "showbackground": true,
            "ticks": "",
            "zerolinecolor": "white"
           }
          },
          "shapedefaults": {
           "line": {
            "color": "#2a3f5f"
           }
          },
          "ternary": {
           "aaxis": {
            "gridcolor": "white",
            "linecolor": "white",
            "ticks": ""
           },
           "baxis": {
            "gridcolor": "white",
            "linecolor": "white",
            "ticks": ""
           },
           "bgcolor": "#E5ECF6",
           "caxis": {
            "gridcolor": "white",
            "linecolor": "white",
            "ticks": ""
           }
          },
          "title": {
           "x": 0.05
          },
          "xaxis": {
           "automargin": true,
           "gridcolor": "white",
           "linecolor": "white",
           "ticks": "",
           "title": {
            "standoff": 15
           },
           "zerolinecolor": "white",
           "zerolinewidth": 2
          },
          "yaxis": {
           "automargin": true,
           "gridcolor": "white",
           "linecolor": "white",
           "ticks": "",
           "title": {
            "standoff": 15
           },
           "zerolinecolor": "white",
           "zerolinewidth": 2
          }
         }
        }
       }
      }
     },
     "metadata": {},
     "output_type": "display_data"
    }
   ],
   "source": [
    "import plotly.graph_objects as plty_go\n",
    "\n",
    "compare_categories = ['KDA', 'CS/Min','Gold diff @15','Forward %','Winrate']\n",
    "\n",
    "faker_radar = plty_go.Figure()\n",
    "\n",
    "qinq_metrics = compute_metrics(data)\n",
    "faker_metrics = compute_metrics(faker_data)\n",
    "\n",
    "print(qinq_metrics.values())\n",
    "print(faker_metrics.values())\n",
    "faker_radar.add_trace(plty_go.Scatterpolar(\n",
    "    r=[],\n",
    "    theta=compare_categories,\n",
    "    name=\"Qing\"\n",
    "))\n",
    "\n",
    "faker_radar.add_trace(plty_go.Scatterpolar(\n",
    "    r=[],\n",
    "    theta=compare_categories,\n",
    "    name=\"Faker\"\n",
    "))\n",
    "\n",
    "faker_radar.show()\n"
   ]
  }
 ],
 "metadata": {
  "kernelspec": {
   "display_name": "Python 3",
   "language": "python",
   "name": "python3"
  },
  "language_info": {
   "codemirror_mode": {
    "name": "ipython",
    "version": 3
   },
   "file_extension": ".py",
   "mimetype": "text/x-python",
   "name": "python",
   "nbconvert_exporter": "python",
   "pygments_lexer": "ipython3",
   "version": "3.12.4"
  }
 },
 "nbformat": 4,
 "nbformat_minor": 2
}
