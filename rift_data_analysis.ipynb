{
 "cells": [
  {
   "cell_type": "code",
   "execution_count": 1,
   "metadata": {},
   "outputs": [],
   "source": [
    "import requests\n",
    "import pandas as pd\n",
    "import json\n",
    "import numpy as np\n",
    "import matplotlib.pyplot as plt\n",
    "import seaborn as sns\n",
    "from dotenv import dotenv_values\n",
    "import sqlite3\n",
    "import sqlite_utils\n",
    "import time\n",
    "import statistics\n"
   ]
  },
  {
   "cell_type": "code",
   "execution_count": 20,
   "metadata": {},
   "outputs": [],
   "source": [
    "def is_forward(x, y , side) :\n",
    "    a = -1\n",
    "    b = 16000 - a* 0\n",
    "\n",
    "    y_diag = a * x+b\n",
    "\n",
    "    if side == 100: #blue side\n",
    "        if y > y_diag :\n",
    "            return True\n",
    "        else :\n",
    "            return False\n",
    "    if side == 200 : #Red side, on inverse alors\n",
    "        if y > y_diag :\n",
    "            return False\n",
    "        else :\n",
    "            return True"
   ]
  },
  {
   "cell_type": "code",
   "execution_count": 2,
   "metadata": {},
   "outputs": [],
   "source": [
    "mid_kr_puuid = \"yke-_ZuAP9wM6s3tpe-FnVWLlnwI4qLuLRzz933HfpI_jzKcDa1YwXbWGpFC7WJek_rv4x_kXk2Y-A\""
   ]
  },
  {
   "cell_type": "code",
   "execution_count": 3,
   "metadata": {},
   "outputs": [],
   "source": [
    "conn = sqlite3.connect('koren_soloq_db.db')\n",
    "cursor = conn.cursor()\n",
    "match_end_data = cursor.execute('''SELECT metadata, info FROM MATCH_DATA''').fetchall()\n",
    "match_timeline_data = cursor.execute('''SELECT metadata, timelineinfo FROM MATCH_DATA''').fetchall()\n",
    "\n",
    "conn.close()"
   ]
  },
  {
   "cell_type": "code",
   "execution_count": 4,
   "metadata": {},
   "outputs": [],
   "source": [
    "#Filter only mid role games\n",
    "list_match_end_data_whereMid = []\n",
    "mid_matchs = []\n",
    "for idx_match, match in enumerate(match_end_data) :\n",
    "    match_info = json.loads(match[1])\n",
    "    for idx, participant in enumerate(match_info['participants']):\n",
    "        if (participant['puuid'] == mid_kr_puuid) and (participant['teamPosition'] == \"MIDDLE\"):\n",
    "            list_match_end_data_whereMid.append(match)\n",
    "            mid_matchs.append(idx_match)\n",
    "\n",
    "list_match_timeline_data_whereMid = [match_timeline_data[i] for i in mid_matchs]"
   ]
  },
  {
   "cell_type": "code",
   "execution_count": 5,
   "metadata": {},
   "outputs": [
    {
     "name": "stdout",
     "output_type": "stream",
     "text": [
      "600\n",
      "505\n",
      "505\n"
     ]
    }
   ],
   "source": [
    "print(len(match_end_data))\n",
    "print(len(list_match_end_data_whereMid))\n",
    "print(len(list_match_timeline_data_whereMid))"
   ]
  },
  {
   "cell_type": "code",
   "execution_count": 6,
   "metadata": {},
   "outputs": [],
   "source": [
    "#Info after game\n",
    "kda_list = []\n",
    "cs_min = []\n",
    "for match in list_match_end_data_whereMid :\n",
    "\n",
    "\n",
    "    match_metadata = json.loads(match[0])\n",
    "    for idx, player_puuid in enumerate(match_metadata['participants']):\n",
    "        if player_puuid == mid_kr_puuid:\n",
    "            index_qing = idx\n",
    "\n",
    "    match_info = json.loads(match[1])\n",
    "\n",
    "    #KDA\n",
    "    kills = match_info['participants'][index_qing]['kills']\n",
    "    assists = match_info['participants'][index_qing]['assists']\n",
    "    deaths = match_info['participants'][index_qing]['deaths']\n",
    "    if deaths == 0 : deaths = 1\n",
    "    kda_list.append((kills+assists)/deaths)\n",
    "\n",
    "    #CS/MIN\n",
    "    monster_cs = match_info['participants'][index_qing]['neutralMinionsKilled']\n",
    "    minion_cs = match_info['participants'][index_qing]['totalMinionsKilled']\n",
    "    cs_min.append((monster_cs + minion_cs) /  (match_info['gameDuration'] //60))\n",
    "\n",
    "\n"
   ]
  },
  {
   "cell_type": "code",
   "execution_count": 7,
   "metadata": {},
   "outputs": [
    {
     "data": {
      "text/plain": [
       "'kKSPluUio3QQcAttyUdjul-d2m3rPrCRxxf4llXyzcwkwdtpnZ6PGHFY_NH7IQfgbgf-XPko4bZE8A'"
      ]
     },
     "execution_count": 7,
     "metadata": {},
     "output_type": "execute_result"
    }
   ],
   "source": [
    "json.loads(list_match_end_data_whereMid[0][1])['participants'][0]['puuid']"
   ]
  },
  {
   "cell_type": "code",
   "execution_count": 21,
   "metadata": {},
   "outputs": [
    {
     "data": {
      "text/plain": [
       "{'x': 14539, 'y': 14394}"
      ]
     },
     "execution_count": 21,
     "metadata": {},
     "output_type": "execute_result"
    }
   ],
   "source": [
    "json.loads(list_match_timeline_data_whereMid[0][1])['frames'][0]['participantFrames']['7']['position']"
   ]
  },
  {
   "cell_type": "code",
   "execution_count": 9,
   "metadata": {},
   "outputs": [
    {
     "data": {
      "text/plain": [
       "100"
      ]
     },
     "execution_count": 9,
     "metadata": {},
     "output_type": "execute_result"
    }
   ],
   "source": [
    "json.loads(list_match_end_data_whereMid[0][1])['participants'][0]['teamId']"
   ]
  },
  {
   "cell_type": "code",
   "execution_count": 19,
   "metadata": {},
   "outputs": [
    {
     "data": {
      "text/plain": [
       "<matplotlib.collections.PathCollection at 0x1f87430ca10>"
      ]
     },
     "execution_count": 19,
     "metadata": {},
     "output_type": "execute_result"
    },
    {
     "data": {
      "image/png": "[encoded data removed]",
      "text/plain": [
       "<Figure size 640x480 with 1 Axes>"
      ]
     },
     "metadata": {},
     "output_type": "display_data"
    }
   ],
   "source": [
    "plt.plot(range(16000,0,-10),range(0,16000,10))\n",
    "plt.scatter(json.loads(list_match_timeline_data_whereMid[0][1])['frames'][0]['participantFrames']['7']['position']['x'], json.loads(list_match_timeline_data_whereMid[0][1])['frames'][0]['participantFrames']['7']['position']['y'])\n",
    "plt.scatter(json.loads(list_match_timeline_data_whereMid[0][1])['frames'][0]['participantFrames']['2']['position']['x'], json.loads(list_match_timeline_data_whereMid[0][1])['frames'][0]['participantFrames']['2']['position']['y'])"
   ]
  },
  {
   "cell_type": "code",
   "execution_count": null,
   "metadata": {},
   "outputs": [
    {
     "name": "stdout",
     "output_type": "stream",
     "text": [
      "[0, 0.5925925925925926, 0.4, 0.23529411764705882, 0.125, 0.46875, 0.03225806451612903, 0.4166666666666667, 0.22580645161290322, 0.48717948717948717, 0.08, 0.6470588235294118, 0.47058823529411764, 0.5294117647058824, 0.46875, 0.3333333333333333, 0.5882352941176471, 0.5, 0.11764705882352941, 0.7741935483870968, 0.6538461538461539, 0.4444444444444444, 0.24, 0.3333333333333333, 0.5172413793103449, 0.17647058823529413, 0.5517241379310345, 0, 0.47368421052631576, 0, 0.37037037037037035, 0.2777777777777778, 0.15, 0.058823529411764705, 0.25, 0.41935483870967744, 0.5833333333333334, 0.7241379310344828, 0, 0.7419354838709677, 0.22857142857142856, 0.20833333333333334, 0.21739130434782608, 0.4117647058823529, 0.11764705882352941, 0.5, 0.4864864864864865, 0.2222222222222222, 0.7058823529411765, 0.07692307692307693, 0.8, 0, 0.11538461538461539, 0.2, 0.13636363636363635, 0.4230769230769231, 0.041666666666666664, 0.16129032258064516, 0.06451612903225806, 0.5, 0.46153846153846156, 0.3235294117647059, 0.4117647058823529, 0.4827586206896552, 0.25, 0.5, 0.18181818181818182, 0.21052631578947367, 0.13333333333333333, 0.12, 0.21739130434782608, 0.06666666666666667, 0.4642857142857143, 0, 0.5, 0.4411764705882353, 0.47058823529411764, 0.19444444444444445, 0.058823529411764705, 0.40625, 0.7083333333333334, 0.4117647058823529, 0.16666666666666666, 0.4782608695652174, 0.029411764705882353, 0.6666666666666666, 0.47058823529411764, 0.17647058823529413, 0.4, 0.08, 0.5882352941176471, 0.5909090909090909, 0.075, 0.07692307692307693, 0.43243243243243246, 0.23529411764705882, 0.6666666666666666, 0.1875, 0.15625, 0.08108108108108109, 0.07317073170731707, 0.15625, 0.16129032258064516, 0.35294117647058826, 0.15384615384615385, 0.16129032258064516, 0.1724137931034483, 0.7083333333333334, 0.35714285714285715, 0.5555555555555556, 0.7307692307692307, 0.037037037037037035, 0.4878048780487805, 0.2903225806451613, 0.5, 0.5882352941176471, 0.20588235294117646, 0.25925925925925924, 0.38095238095238093, 0.4, 0.47619047619047616, 0.6296296296296297, 0.2, 0.19047619047619047, 0.7272727272727273, 0.23333333333333334, 0.5555555555555556, 0, 0.03571428571428571, 0.5925925925925926, 0.23333333333333334, 0.6451612903225806, 0.10526315789473684, 0.15, 0.7647058823529411, 0.047619047619047616, 0.7619047619047619, 0.10714285714285714, 0.2916666666666667, 0.5862068965517241, 0.6129032258064516, 0.3333333333333333, 0.5185185185185185, 0.20833333333333334, 0.3870967741935484, 0.2702702702702703, 0.8333333333333334, 0.19047619047619047, 0.30303030303030304, 0.1111111111111111, 0.03333333333333333, 0.21052631578947367, 0.35294117647058826, 0.07692307692307693, 0.16129032258064516, 0, 0.3404255319148936, 0.5641025641025641, 0.6060606060606061, 0.35294117647058826, 0.41379310344827586, 0.045454545454545456, 0.1935483870967742, 0.5833333333333334, 0.45454545454545453, 0.19230769230769232, 0.7391304347826086, 0.13333333333333333, 0.17647058823529413, 0.027777777777777776, 0.05, 0.058823529411764705, 0.17647058823529413, 0.10714285714285714, 0.19047619047619047, 0.2857142857142857, 0.7037037037037037, 0.15, 0.375, 0.3, 0.7142857142857143, 0.17647058823529413, 0, 0.2857142857142857, 0.6666666666666666, 0.8571428571428571, 0.17857142857142858, 0.48148148148148145, 0.22857142857142856, 0.05555555555555555, 0.045454545454545456, 0.32, 0.12121212121212122, 0.6, 0.1935483870967742, 0.18181818181818182, 0.43333333333333335, 0.3, 0, 0.6923076923076923, 0.7857142857142857, 0.4, 0.4, 0.5882352941176471, 0.07692307692307693, 0.5294117647058824, 0.45161290322580644, 0.7222222222222222, 0.7777777777777778, 0.24, 0.6521739130434783, 0.4642857142857143, 0.5416666666666666, 0.17391304347826086, 0.18181818181818182, 0.5517241379310345, 0.08108108108108109, 0.04, 0.5, 0.05, 0.08, 0.2, 0.4, 0.43333333333333335, 0.1111111111111111, 0.6666666666666666, 0.625, 0.16666666666666666, 0.6896551724137931, 0.29411764705882354, 0.48484848484848486, 0.05555555555555555, 0.175, 0.5675675675675675, 0.30303030303030304, 0.11538461538461539, 0.1111111111111111, 0.5185185185185185, 0.47058823529411764, 0.11538461538461539, 0.5714285714285714, 0.45, 0.725, 0.6842105263157895, 0.04, 0.10344827586206896, 0.05555555555555555, 0.3, 0.18181818181818182, 0.26666666666666666, 0.2857142857142857, 0.42424242424242425, 0.275, 0.4090909090909091, 0, 0.25806451612903225, 0.038461538461538464, 0.14705882352941177, 0.05, 0.041666666666666664, 0.6129032258064516, 0.29411764705882354, 0.8888888888888888, 0.29411764705882354, 0.09090909090909091, 0.6206896551724138, 0.2, 0.19047619047619047, 0.4117647058823529, 0.28, 0.25, 0.4117647058823529, 0.4727272727272727, 0.32, 0.6451612903225806, 0.10714285714285714, 0.24242424242424243, 0.32, 0.32142857142857145, 0.23529411764705882, 0.7, 0.12121212121212122, 0.28125, 0.28125, 0.25925925925925924, 0, 0.6756756756756757, 0.20689655172413793, 0.12, 0.4375, 0.6363636363636364, 0.5925925925925926, 0.09090909090909091, 0.75, 0.14285714285714285, 0.5806451612903226, 0.25925925925925924, 0.35, 0.76, 0.5384615384615384, 0.13636363636363635, 0.15151515151515152, 0.18518518518518517, 0.6363636363636364, 0.55, 0.3103448275862069, 0.19230769230769232, 0.6666666666666666, 0.5238095238095238, 0.14285714285714285, 0.6, 0.10344827586206896, 0.6666666666666666, 0.06896551724137931, 0.1, 0.05555555555555555, 0.4117647058823529, 0.7272727272727273, 0.5151515151515151, 0.2, 0.47058823529411764, 0.4666666666666667, 0, 0, 0.2222222222222222, 0.6896551724137931, 0.6176470588235294, 0.16666666666666666, 0.17647058823529413, 0.03225806451612903, 0, 0, 0.10344827586206896, 0.7058823529411765, 0.64, 0.15151515151515152, 0.08823529411764706, 0.41025641025641024, 0.25925925925925924, 0.6956521739130435, 0.8461538461538461, 0.48, 0.3333333333333333, 0.15384615384615385, 0.3870967741935484, 0.03571428571428571, 0.35294117647058826, 0.09523809523809523, 0.03125, 0.23333333333333334, 0.1, 0.6857142857142857, 0.5, 0.5625, 0.16666666666666666, 0.7142857142857143, 0.13333333333333333, 0.2777777777777778, 0.3488372093023256, 0.17647058823529413, 0.6, 0.5625, 0.7647058823529411, 0.5161290322580645, 0.35, 0.6923076923076923, 0.17857142857142858, 0.34375, 0.38235294117647056, 0.16666666666666666, 0.3076923076923077, 0.6785714285714286, 0.11764705882352941, 0.5, 0.55, 0.7058823529411765, 0.18181818181818182, 0.6363636363636364, 0.7058823529411765, 0.7692307692307693, 0.05405405405405406, 0.3181818181818182, 0.5714285714285714, 0.5882352941176471, 0.04, 0.23809523809523808, 0.1111111111111111, 0.5882352941176471, 0.23529411764705882, 0.7058823529411765, 0, 0.5714285714285714, 0.11428571428571428, 0.038461538461538464, 0.42857142857142855, 0.5384615384615384, 0.5357142857142857, 0.18181818181818182, 0.045454545454545456, 0.28, 0.2647058823529412, 0.13793103448275862, 0.24, 0.68, 0.4666666666666667, 0.29411764705882354, 0.16666666666666666, 0.11764705882352941, 0.42105263157894735, 0.5, 0, 0.1, 0.2916666666666667, 0.25, 0.05, 0.8, 0.26666666666666666, 0.4, 0.52, 0.5806451612903226, 0.25806451612903225, 0.5357142857142857, 0.46153846153846156, 0.1, 0.20689655172413793, 0.35294117647058826, 0.46153846153846156, 0.3076923076923077, 0.76, 0.04, 0.19047619047619047, 0.44, 0.8333333333333334, 0.6666666666666666, 0.21875, 0.25925925925925924, 0.5428571428571428, 0, 0.3448275862068966, 0.46875, 0.5882352941176471, 0.28125, 0.25806451612903225, 0.07407407407407407, 0.7058823529411765, 0.6470588235294118, 0.45454545454545453, 0.15, 0.21428571428571427, 0.18181818181818182, 0.5294117647058824, 0.2916666666666667, 0.5882352941176471, 0.6538461538461539, 0.39285714285714285, 0.5882352941176471, 0.27586206896551724, 0.2608695652173913, 0.041666666666666664, 0.2857142857142857, 0.5333333333333333, 0.7142857142857143, 0.9047619047619048, 0, 0.4444444444444444, 0.5882352941176471, 0.7142857142857143, 0.75, 0.03571428571428571, 0.5, 0.21052631578947367, 0.25, 0.041666666666666664, 0.25, 0.058823529411764705, 0.6470588235294118, 0.34615384615384615, 0.03333333333333333, 0.28, 0.75, 0.6, 0.15789473684210525, 0.7647058823529411, 0.7058823529411765, 0.14285714285714285, 0.0625, 0.2857142857142857, 0, 0.17391304347826086, 0.3, 0.08823529411764706, 0.14285714285714285, 0.375, 0.058823529411764705, 0, 0.16129032258064516, 0.07407407407407407, 0.4090909090909091, 0.6071428571428571, 0.8214285714285714, 0.7096774193548387, 0.2571428571428571, 0.29411764705882354, 0.3333333333333333, 0.3125]\n"
     ]
    }
   ],
   "source": [
    "#Info timeline\n",
    "gold_diff_15_list = []\n",
    "forward_percent =[]\n",
    "for matchIndex, match in enumerate(list_match_timeline_data_whereMid):\n",
    "    time_forward = []\n",
    "\n",
    "\n",
    "    match_metadata = json.loads(match[0])\n",
    "    for idx, player_puuid in enumerate(match_metadata['participants']):\n",
    "        if player_puuid == mid_kr_puuid:\n",
    "            index_qing = idx\n",
    "\n",
    "    \n",
    "    for idx, participant in enumerate(json.loads(list_match_end_data_whereMid[matchIndex][1])['participants']):\n",
    "        if (participant['teamPosition'] == \"MIDDLE\") and (participant['puuid']) != mid_kr_puuid:\n",
    "            index_ennemy = idx\n",
    "            side_ennemy = participant['teamId']\n",
    "            if side_ennemy == 100 : \n",
    "                side_qing = 200 \n",
    "            else : \n",
    "                side_qing = 100\n",
    "           \n",
    "\n",
    "    match_info = json.loads(match[1])\n",
    "    \n",
    "    if len(match_info['frames']) > 16 :\n",
    "        qing_gold_15 = match_info['frames'][15]['participantFrames'][str(index_qing+1)]['totalGold']\n",
    "        ennemy_gold_15 = match_info['frames'][15]['participantFrames'][str(index_ennemy+1)]['totalGold']\n",
    "        gold_diff_15_list.append(qing_gold_15 - ennemy_gold_15)\n",
    "\n",
    "    for frame in match_info['frames'] :  \n",
    "        x = frame['participantFrames'][str(index_qing+1)]['position']['x']\n",
    "        y = frame['participantFrames'][str(index_qing+1)]['position']['y']\n",
    "\n",
    "        time_forward.append(is_forward(x,y,side_qing))\n",
    "    forward_percent.append(statistics.mean(time_forward))\n",
    "\n",
    "    \n",
    "        \n",
    "\n",
    "# gold diff\n",
    "# forward %"
   ]
  },
  {
   "cell_type": "code",
   "execution_count": 33,
   "metadata": {},
   "outputs": [
    {
     "name": "stdout",
     "output_type": "stream",
     "text": [
      "4.438730873087309\n",
      "7.886367344876574\n",
      "236.53493013972056\n",
      "0.34231159283986196\n"
     ]
    }
   ],
   "source": [
    "#attention il a des games autofills\n",
    "print(statistics.mean(kda_list))\n",
    "print(statistics.mean(cs_min))\n",
    "print(statistics.mean(gold_diff_15_list))\n",
    "print(statistics.mean(forward_percent))"
   ]
  },
  {
   "cell_type": "code",
   "execution_count": null,
   "metadata": {},
   "outputs": [],
   "source": []
  }
 ],
 "metadata": {
  "kernelspec": {
   "display_name": "Python 3",
   "language": "python",
   "name": "python3"
  },
  "language_info": {
   "codemirror_mode": {
    "name": "ipython",
    "version": 3
   },
   "file_extension": ".py",
   "mimetype": "text/x-python",
   "name": "python",
   "nbconvert_exporter": "python",
   "pygments_lexer": "ipython3",
   "version": "3.12.4"
  }
 },
 "nbformat": 4,
 "nbformat_minor": 2
}
