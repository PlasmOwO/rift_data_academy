{
 "cells": [
  {
   "cell_type": "code",
   "execution_count": 64,
   "metadata": {},
   "outputs": [],
   "source": [
    "import requests\n",
    "import pandas as pd\n",
    "import json\n",
    "import numpy as np\n",
    "import matplotlib.pyplot as plt\n",
    "import seaborn as sns\n",
    "from dotenv import dotenv_values\n",
    "import sqlite3\n",
    "import sqlite_utils\n",
    "import time\n",
    "import statistics\n"
   ]
  },
  {
   "cell_type": "code",
   "execution_count": 2,
   "metadata": {},
   "outputs": [],
   "source": [
    "mid_kr_puuid = \"yke-_ZuAP9wM6s3tpe-FnVWLlnwI4qLuLRzz933HfpI_jzKcDa1YwXbWGpFC7WJek_rv4x_kXk2Y-A\""
   ]
  },
  {
   "cell_type": "code",
   "execution_count": 11,
   "metadata": {},
   "outputs": [],
   "source": [
    "conn = sqlite3.connect('koren_soloq_db.db')\n",
    "cursor = conn.cursor()\n",
    "match_end_data = cursor.execute('''SELECT metadata, info FROM MATCH_DATA''').fetchall()\n",
    "match_timeline_data = cursor.execute('''SELECT metadata, timelineinfo FROM MATCH_DATA''').fetchall()\n",
    "\n",
    "conn.close()"
   ]
  },
  {
   "cell_type": "code",
   "execution_count": 76,
   "metadata": {},
   "outputs": [],
   "source": [
    "kda_list = []\n",
    "cs_min = []\n",
    "for match in match_end_data :\n",
    "\n",
    "\n",
    "    match_metadata = json.loads(match[0])\n",
    "    for idx, player_puuid in enumerate(match_metadata['participants']):\n",
    "        if player_puuid == mid_kr_puuid:\n",
    "            index_qing = idx\n",
    "\n",
    "    match_info = json.loads(match[1])\n",
    "\n",
    "    #KDA\n",
    "    kills = match_info['participants'][index_qing]['kills']\n",
    "    assists = match_info['participants'][index_qing]['assists']\n",
    "    deaths = match_info['participants'][index_qing]['deaths']\n",
    "    if deaths == 0 : deaths = 1\n",
    "    kda_list.append((kills+assists)/deaths)\n",
    "\n",
    "    #CS/MIN\n",
    "    monster_cs = match_info['participants'][index_qing]['neutralMinionsKilled']\n",
    "    minion_cs = match_info['participants'][index_qing]['totalMinionsKilled']\n",
    "    cs_min.append((monster_cs + minion_cs) /  (match_info['gameDuration'] //60))\n",
    "\n",
    "\n"
   ]
  },
  {
   "cell_type": "code",
   "execution_count": 78,
   "metadata": {},
   "outputs": [
    {
     "name": "stdout",
     "output_type": "stream",
     "text": [
      "4.271966719010837\n",
      "7.392002546872168\n"
     ]
    }
   ],
   "source": [
    "#attention il a des games autofills\n",
    "print(statistics.mean(kda_list))\n",
    "print(statistics.mean(cs_min))"
   ]
  },
  {
   "cell_type": "code",
   "execution_count": 75,
   "metadata": {},
   "outputs": [
    {
     "data": {
      "text/plain": [
       "26"
      ]
     },
     "execution_count": 75,
     "metadata": {},
     "output_type": "execute_result"
    }
   ],
   "source": [
    "json.loads(match_end_data[0][1])['gameDuration'] // 60\n",
    "\n"
   ]
  },
  {
   "cell_type": "code",
   "execution_count": null,
   "metadata": {},
   "outputs": [],
   "source": []
  }
 ],
 "metadata": {
  "kernelspec": {
   "display_name": "Python 3",
   "language": "python",
   "name": "python3"
  },
  "language_info": {
   "codemirror_mode": {
    "name": "ipython",
    "version": 3
   },
   "file_extension": ".py",
   "mimetype": "text/x-python",
   "name": "python",
   "nbconvert_exporter": "python",
   "pygments_lexer": "ipython3",
   "version": "3.12.4"
  }
 },
 "nbformat": 4,
 "nbformat_minor": 2
}
